{
 "cells": [
  {
   "cell_type": "markdown",
   "metadata": {},
   "source": [
    "# Tutorial 1B Hands on data - wrangling data with Python & pandas\n",
    "\n"
   ]
  },
  {
   "cell_type": "markdown",
   "metadata": {},
   "source": [
    "In two parts:\n",
    "* reproducing the DataWrangler process (using the same 'Air crashes' data) and \n",
    "* bad, bad data investigations\n"
   ]
  },
  {
   "cell_type": "markdown",
   "metadata": {},
   "source": [
    "** Before you start, a most important thing to do, check your python version**"
   ]
  },
  {
   "cell_type": "code",
   "execution_count": 1,
   "metadata": {},
   "outputs": [
    {
     "name": "stdout",
     "output_type": "stream",
     "text": [
      "sys.version_info(major=3, minor=6, micro=3, releaselevel='final', serial=0)\n"
     ]
    }
   ],
   "source": [
    "import sys\n",
    "print (sys.version_info)"
   ]
  },
  {
   "cell_type": "code",
   "execution_count": 2,
   "metadata": {
    "collapsed": true
   },
   "outputs": [],
   "source": [
    "import pandas as pd # not the bamboo eating bear... 'Panel Data' "
   ]
  },
  {
   "cell_type": "markdown",
   "metadata": {},
   "source": [
    "# Part 1 \n",
    "## Step 1 Read data "
   ]
  },
  {
   "cell_type": "code",
   "execution_count": 3,
   "metadata": {},
   "outputs": [
    {
     "data": {
      "text/plain": [
       "(927, 1)"
      ]
     },
     "execution_count": 3,
     "metadata": {},
     "output_type": "execute_result"
    }
   ],
   "source": [
    "# load data\n",
    "df = pd.read_csv('AirCrashes.csv') # df is a dataframe, confirm with: type(df)\n",
    "df.shape"
   ]
  },
  {
   "cell_type": "markdown",
   "metadata": {},
   "source": [
    "#### How many lines of data?\n",
    "#### How many did you get with DataWrangler?\n",
    "\n",
    "Have a look a the first few rows:"
   ]
  },
  {
   "cell_type": "code",
   "execution_count": 4,
   "metadata": {
    "scrolled": false
   },
   "outputs": [
    {
     "data": {
      "text/html": [
       "<div>\n",
       "<style>\n",
       "    .dataframe thead tr:only-child th {\n",
       "        text-align: right;\n",
       "    }\n",
       "\n",
       "    .dataframe thead th {\n",
       "        text-align: left;\n",
       "    }\n",
       "\n",
       "    .dataframe tbody tr th {\n",
       "        vertical-align: top;\n",
       "    }\n",
       "</style>\n",
       "<table border=\"1\" class=\"dataframe\">\n",
       "  <thead>\n",
       "    <tr style=\"text-align: right;\">\n",
       "      <th></th>\n",
       "      <th>Incident American Airlines Flight 11 involving a Boeing 767-223ER in 2001</th>\n",
       "    </tr>\n",
       "  </thead>\n",
       "  <tbody>\n",
       "    <tr>\n",
       "      <th>Casualties</th>\n",
       "      <td>Extremely High</td>\n",
       "    </tr>\n",
       "    <tr>\n",
       "      <th>Total Dead</th>\n",
       "      <td>1692</td>\n",
       "    </tr>\n",
       "    <tr>\n",
       "      <th>Crew</th>\n",
       "      <td>11</td>\n",
       "    </tr>\n",
       "    <tr>\n",
       "      <th>Passengers</th>\n",
       "      <td>81</td>\n",
       "    </tr>\n",
       "    <tr>\n",
       "      <th>Ground</th>\n",
       "      <td>1600</td>\n",
       "    </tr>\n",
       "    <tr>\n",
       "      <th>Notes</th>\n",
       "      <td>No survivors</td>\n",
       "    </tr>\n",
       "    <tr>\n",
       "      <th>Type</th>\n",
       "      <td>INH</td>\n",
       "    </tr>\n",
       "    <tr>\n",
       "      <th>Reason</th>\n",
       "      <td>Attack</td>\n",
       "    </tr>\n",
       "    <tr>\n",
       "      <th>Location</th>\n",
       "      <td>New York - New York - US</td>\n",
       "    </tr>\n",
       "    <tr>\n",
       "      <th>Country</th>\n",
       "      <td>US</td>\n",
       "    </tr>\n",
       "    <tr>\n",
       "      <th>Phase</th>\n",
       "      <td>ENR</td>\n",
       "    </tr>\n",
       "    <tr>\n",
       "      <th>Date</th>\n",
       "      <td>2001-09-11</td>\n",
       "    </tr>\n",
       "    <tr>\n",
       "      <th>Latitude</th>\n",
       "      <td>40.7143528</td>\n",
       "    </tr>\n",
       "    <tr>\n",
       "      <th>Longitude</th>\n",
       "      <td>-74.0059731</td>\n",
       "    </tr>\n",
       "    <tr>\n",
       "      <th>Circumstances</th>\n",
       "      <td>Good Visibility by Day</td>\n",
       "    </tr>\n",
       "    <tr>\n",
       "      <th>Incident United Airlines Flight 175 involving a Boeing 767-222 in 2001</th>\n",
       "      <td>NaN</td>\n",
       "    </tr>\n",
       "    <tr>\n",
       "      <th>Casualties</th>\n",
       "      <td>Extremely High</td>\n",
       "    </tr>\n",
       "    <tr>\n",
       "      <th>Total Dead</th>\n",
       "      <td>965</td>\n",
       "    </tr>\n",
       "    <tr>\n",
       "      <th>Crew</th>\n",
       "      <td>9</td>\n",
       "    </tr>\n",
       "    <tr>\n",
       "      <th>Passengers</th>\n",
       "      <td>56</td>\n",
       "    </tr>\n",
       "  </tbody>\n",
       "</table>\n",
       "</div>"
      ],
      "text/plain": [
       "                                                   Incident American Airlines Flight 11 involving a Boeing 767-223ER in 2001\n",
       "Casualties                                                                             Extremely High                       \n",
       "Total Dead                                                                                       1692                       \n",
       "Crew                                                                                               11                       \n",
       "Passengers                                                                                         81                       \n",
       "Ground                                                                                           1600                       \n",
       "Notes                                                                                    No survivors                       \n",
       "Type                                                                                              INH                       \n",
       "Reason                                                                                         Attack                       \n",
       "Location                                                                     New York - New York - US                       \n",
       "Country                                                                                            US                       \n",
       "Phase                                                                                             ENR                       \n",
       "Date                                                                                       2001-09-11                       \n",
       "Latitude                                                                                   40.7143528                       \n",
       "Longitude                                                                                 -74.0059731                       \n",
       "Circumstances                                                                  Good Visibility by Day                       \n",
       "Incident United Airlines Flight 175 involving a...                                                NaN                       \n",
       "Casualties                                                                             Extremely High                       \n",
       "Total Dead                                                                                        965                       \n",
       "Crew                                                                                                9                       \n",
       "Passengers                                                                                         56                       "
      ]
     },
     "execution_count": 4,
     "metadata": {},
     "output_type": "execute_result"
    }
   ],
   "source": [
    "df.head(n=20)"
   ]
  },
  {
   "cell_type": "markdown",
   "metadata": {},
   "source": [
    "That's not quite right.. the first line has been stolen for the title/header\n",
    "#### Does read_csv ignore empty lines? \n",
    "e.g. line 18 should be blank\n",
    "\n",
    "skip_blank_lines = True (the default) see:\n",
    "\n",
    "http://pandas.pydata.org/pandas-docs/stable/generated/pandas.read_csv.html\n",
    "\n",
    "Try again, force our own headers upon the data using default column names from DataWrangler (split/extract etc.) \n",
    "\n",
    "This pushes the first incident down into the data where it belongs (but adds a NaN, below)"
   ]
  },
  {
   "cell_type": "code",
   "execution_count": 5,
   "metadata": {},
   "outputs": [
    {
     "data": {
      "text/html": [
       "<div>\n",
       "<style>\n",
       "    .dataframe thead tr:only-child th {\n",
       "        text-align: right;\n",
       "    }\n",
       "\n",
       "    .dataframe thead th {\n",
       "        text-align: left;\n",
       "    }\n",
       "\n",
       "    .dataframe tbody tr th {\n",
       "        vertical-align: top;\n",
       "    }\n",
       "</style>\n",
       "<table border=\"1\" class=\"dataframe\">\n",
       "  <thead>\n",
       "    <tr style=\"text-align: right;\">\n",
       "      <th></th>\n",
       "      <th>split</th>\n",
       "      <th>split1</th>\n",
       "    </tr>\n",
       "  </thead>\n",
       "  <tbody>\n",
       "    <tr>\n",
       "      <th>0</th>\n",
       "      <td>Incident American Airlines Flight 11 involving...</td>\n",
       "      <td>NaN</td>\n",
       "    </tr>\n",
       "    <tr>\n",
       "      <th>1</th>\n",
       "      <td>Casualties</td>\n",
       "      <td>Extremely High</td>\n",
       "    </tr>\n",
       "    <tr>\n",
       "      <th>2</th>\n",
       "      <td>Total Dead</td>\n",
       "      <td>1692</td>\n",
       "    </tr>\n",
       "    <tr>\n",
       "      <th>3</th>\n",
       "      <td>Crew</td>\n",
       "      <td>11</td>\n",
       "    </tr>\n",
       "    <tr>\n",
       "      <th>4</th>\n",
       "      <td>Passengers</td>\n",
       "      <td>81</td>\n",
       "    </tr>\n",
       "    <tr>\n",
       "      <th>5</th>\n",
       "      <td>Ground</td>\n",
       "      <td>1600</td>\n",
       "    </tr>\n",
       "    <tr>\n",
       "      <th>6</th>\n",
       "      <td>Notes</td>\n",
       "      <td>No survivors</td>\n",
       "    </tr>\n",
       "    <tr>\n",
       "      <th>7</th>\n",
       "      <td>Type</td>\n",
       "      <td>INH</td>\n",
       "    </tr>\n",
       "    <tr>\n",
       "      <th>8</th>\n",
       "      <td>Reason</td>\n",
       "      <td>Attack</td>\n",
       "    </tr>\n",
       "    <tr>\n",
       "      <th>9</th>\n",
       "      <td>Location</td>\n",
       "      <td>New York - New York - US</td>\n",
       "    </tr>\n",
       "  </tbody>\n",
       "</table>\n",
       "</div>"
      ],
      "text/plain": [
       "                                               split                    split1\n",
       "0  Incident American Airlines Flight 11 involving...                       NaN\n",
       "1                                         Casualties            Extremely High\n",
       "2                                         Total Dead                      1692\n",
       "3                                               Crew                        11\n",
       "4                                         Passengers                        81\n",
       "5                                             Ground                      1600\n",
       "6                                              Notes              No survivors\n",
       "7                                               Type                       INH\n",
       "8                                             Reason                    Attack\n",
       "9                                           Location  New York - New York - US"
      ]
     },
     "execution_count": 5,
     "metadata": {},
     "output_type": "execute_result"
    }
   ],
   "source": [
    "df = pd.read_csv('AirCrashes.csv', names = ['split', 'split1']) \n",
    "# column names (split, split1) replicate DataWrangler column names\n",
    "df.head(10)"
   ]
  },
  {
   "cell_type": "markdown",
   "metadata": {},
   "source": [
    "## Step 2 Extract index(s)\n",
    "\n",
    "### Extract flight information\n",
    "The flight information is between \"Incident\" and \"involving\" in the \"split\" cell.\n",
    "Now, extract flights based on one of the suggestions from DataWrangler, i.e., \"(Incident (.*) involving)\"."
   ]
  },
  {
   "cell_type": "code",
   "execution_count": 6,
   "metadata": {},
   "outputs": [
    {
     "name": "stderr",
     "output_type": "stream",
     "text": [
      "/anaconda3/lib/python3.6/site-packages/ipykernel_launcher.py:3: FutureWarning: currently extract(expand=None) means expand=False (return Index/Series/DataFrame) but in a future version of pandas this will be changed to expand=True (return DataFrame)\n",
      "  This is separate from the ipykernel package so we can avoid doing imports until\n"
     ]
    },
    {
     "data": {
      "text/plain": [
       "0       American Airlines Flight 11\n",
       "1                               NaN\n",
       "2                               NaN\n",
       "3                               NaN\n",
       "4                               NaN\n",
       "5                               NaN\n",
       "6                               NaN\n",
       "7                               NaN\n",
       "8                               NaN\n",
       "9                               NaN\n",
       "10                              NaN\n",
       "11                              NaN\n",
       "12                              NaN\n",
       "13                              NaN\n",
       "14                              NaN\n",
       "15                              NaN\n",
       "16       United Airlines Flight 175\n",
       "17                              NaN\n",
       "18                              NaN\n",
       "19                              NaN\n",
       "20                              NaN\n",
       "21                              NaN\n",
       "22                              NaN\n",
       "23                              NaN\n",
       "24                              NaN\n",
       "25                              NaN\n",
       "26                              NaN\n",
       "27                              NaN\n",
       "28                              NaN\n",
       "29                              NaN\n",
       "                   ...             \n",
       "898                             NaN\n",
       "899                             NaN\n",
       "900                             NaN\n",
       "901                             NaN\n",
       "902                             NaN\n",
       "903                             NaN\n",
       "904                             NaN\n",
       "905                             NaN\n",
       "906                             NaN\n",
       "907                             NaN\n",
       "908                             NaN\n",
       "909                             NaN\n",
       "910                             NaN\n",
       "911                             NaN\n",
       "912    American Airlines Flight 965\n",
       "913                             NaN\n",
       "914                             NaN\n",
       "915                             NaN\n",
       "916                             NaN\n",
       "917                             NaN\n",
       "918                             NaN\n",
       "919                             NaN\n",
       "920                             NaN\n",
       "921                             NaN\n",
       "922                             NaN\n",
       "923                             NaN\n",
       "924                             NaN\n",
       "925                             NaN\n",
       "926                             NaN\n",
       "927                             NaN\n",
       "Name: split, Length: 928, dtype: object"
      ]
     },
     "execution_count": 6,
     "metadata": {},
     "output_type": "execute_result"
    }
   ],
   "source": [
    "# treat the 'split' column as a str, then \n",
    "# use the extract method on the str\n",
    "df['split'].str.extract(\"Incident (.*) involving\")"
   ]
  },
  {
   "cell_type": "markdown",
   "metadata": {},
   "source": [
    "### That seems to have worked...\n",
    "\n",
    "We got 'American Airlines Flight 11' and 'United Airlines Flight 175' etc but lost all the other data and gained a bunch of NaNs\n",
    "\n",
    "#### What is this 'str.extract' code anyway? (add a comment to decode or explain it)\n",
    "\n",
    "extract(\"Incident (.*) involving\")\n",
    "\n",
    "### But we want planes in a new column, we can create one called 'extract' like this:\n",
    "\n",
    "df['extract'] = df['split'].str.extract(\"Incident (.*) involving\")\n",
    "\n",
    "But this would be the last column, we want it in the second (location is not critical but it can be done so why not). \n",
    "\n",
    "Now, use the DataFrame's insert function."
   ]
  },
  {
   "cell_type": "code",
   "execution_count": 8,
   "metadata": {},
   "outputs": [
    {
     "ename": "SyntaxError",
     "evalue": "unexpected EOF while parsing (<ipython-input-8-a4bca5b59602>, line 1)",
     "output_type": "error",
     "traceback": [
      "\u001b[0;36m  File \u001b[0;32m\"<ipython-input-8-a4bca5b59602>\"\u001b[0;36m, line \u001b[0;32m1\u001b[0m\n\u001b[0;31m    df.insert(1, 'extract', df['split'].str.extract(\"Incident (.*) involving\"\u001b[0m\n\u001b[0m                                                                             ^\u001b[0m\n\u001b[0;31mSyntaxError\u001b[0m\u001b[0;31m:\u001b[0m unexpected EOF while parsing\n"
     ]
    }
   ],
   "source": [
    "df.insert(1, 'extract', df['split'].str.extract(\"Incident (.*) involving\""
   ]
  },
  {
   "cell_type": "code",
   "execution_count": null,
   "metadata": {
    "collapsed": true
   },
   "outputs": [],
   "source": [
    "df.head(20)"
   ]
  },
  {
   "cell_type": "markdown",
   "metadata": {},
   "source": [
    "So there's the flight information in it's own column, plus a whole lot of NaNs\n",
    "\n",
    "We could replace all the NaN with spaces or similar but they can wait\n",
    "\n",
    "Now we want the aircraft in it's own column, similar to above, \n",
    "based on the suggestion from DataWrangler, note spaces in \"\\ a (.*)\\ in \"\n",
    "\n",
    "#### but is this optimal?  "
   ]
  },
  {
   "cell_type": "code",
   "execution_count": null,
   "metadata": {
    "collapsed": true
   },
   "outputs": [],
   "source": [
    "# and repeat to get the aircraft type that appears between \"a\" and \"in\"\n",
    "\n",
    "# and df.head(20) to confirm\n",
    "df.head(20)"
   ]
  },
  {
   "cell_type": "markdown",
   "metadata": {},
   "source": [
    "Drop the empty lines "
   ]
  },
  {
   "cell_type": "code",
   "execution_count": 14,
   "metadata": {},
   "outputs": [
    {
     "data": {
      "text/html": [
       "<div>\n",
       "<style>\n",
       "    .dataframe thead tr:only-child th {\n",
       "        text-align: right;\n",
       "    }\n",
       "\n",
       "    .dataframe thead th {\n",
       "        text-align: left;\n",
       "    }\n",
       "\n",
       "    .dataframe tbody tr th {\n",
       "        vertical-align: top;\n",
       "    }\n",
       "</style>\n",
       "<table border=\"1\" class=\"dataframe\">\n",
       "  <thead>\n",
       "    <tr style=\"text-align: right;\">\n",
       "      <th></th>\n",
       "      <th>split</th>\n",
       "      <th>split1</th>\n",
       "    </tr>\n",
       "  </thead>\n",
       "  <tbody>\n",
       "    <tr>\n",
       "      <th>0</th>\n",
       "      <td>Incident American Airlines Flight 11 involving...</td>\n",
       "      <td>NaN</td>\n",
       "    </tr>\n",
       "    <tr>\n",
       "      <th>1</th>\n",
       "      <td>Casualties</td>\n",
       "      <td>Extremely High</td>\n",
       "    </tr>\n",
       "    <tr>\n",
       "      <th>2</th>\n",
       "      <td>Total Dead</td>\n",
       "      <td>1692</td>\n",
       "    </tr>\n",
       "    <tr>\n",
       "      <th>3</th>\n",
       "      <td>Crew</td>\n",
       "      <td>11</td>\n",
       "    </tr>\n",
       "    <tr>\n",
       "      <th>4</th>\n",
       "      <td>Passengers</td>\n",
       "      <td>81</td>\n",
       "    </tr>\n",
       "    <tr>\n",
       "      <th>5</th>\n",
       "      <td>Ground</td>\n",
       "      <td>1600</td>\n",
       "    </tr>\n",
       "    <tr>\n",
       "      <th>6</th>\n",
       "      <td>Notes</td>\n",
       "      <td>No survivors</td>\n",
       "    </tr>\n",
       "    <tr>\n",
       "      <th>7</th>\n",
       "      <td>Type</td>\n",
       "      <td>INH</td>\n",
       "    </tr>\n",
       "    <tr>\n",
       "      <th>8</th>\n",
       "      <td>Reason</td>\n",
       "      <td>Attack</td>\n",
       "    </tr>\n",
       "    <tr>\n",
       "      <th>9</th>\n",
       "      <td>Location</td>\n",
       "      <td>New York - New York - US</td>\n",
       "    </tr>\n",
       "    <tr>\n",
       "      <th>10</th>\n",
       "      <td>Country</td>\n",
       "      <td>US</td>\n",
       "    </tr>\n",
       "    <tr>\n",
       "      <th>11</th>\n",
       "      <td>Phase</td>\n",
       "      <td>ENR</td>\n",
       "    </tr>\n",
       "    <tr>\n",
       "      <th>12</th>\n",
       "      <td>Date</td>\n",
       "      <td>2001-09-11</td>\n",
       "    </tr>\n",
       "    <tr>\n",
       "      <th>13</th>\n",
       "      <td>Latitude</td>\n",
       "      <td>40.7143528</td>\n",
       "    </tr>\n",
       "    <tr>\n",
       "      <th>14</th>\n",
       "      <td>Longitude</td>\n",
       "      <td>-74.0059731</td>\n",
       "    </tr>\n",
       "    <tr>\n",
       "      <th>15</th>\n",
       "      <td>Circumstances</td>\n",
       "      <td>Good Visibility by Day</td>\n",
       "    </tr>\n",
       "    <tr>\n",
       "      <th>16</th>\n",
       "      <td>Incident United Airlines Flight 175 involving ...</td>\n",
       "      <td>NaN</td>\n",
       "    </tr>\n",
       "    <tr>\n",
       "      <th>17</th>\n",
       "      <td>Casualties</td>\n",
       "      <td>Extremely High</td>\n",
       "    </tr>\n",
       "    <tr>\n",
       "      <th>18</th>\n",
       "      <td>Total Dead</td>\n",
       "      <td>965</td>\n",
       "    </tr>\n",
       "    <tr>\n",
       "      <th>19</th>\n",
       "      <td>Crew</td>\n",
       "      <td>9</td>\n",
       "    </tr>\n",
       "    <tr>\n",
       "      <th>20</th>\n",
       "      <td>Passengers</td>\n",
       "      <td>56</td>\n",
       "    </tr>\n",
       "    <tr>\n",
       "      <th>21</th>\n",
       "      <td>Ground</td>\n",
       "      <td>900</td>\n",
       "    </tr>\n",
       "    <tr>\n",
       "      <th>22</th>\n",
       "      <td>Notes</td>\n",
       "      <td>No survivors</td>\n",
       "    </tr>\n",
       "    <tr>\n",
       "      <th>23</th>\n",
       "      <td>Type</td>\n",
       "      <td>INH</td>\n",
       "    </tr>\n",
       "    <tr>\n",
       "      <th>24</th>\n",
       "      <td>Reason</td>\n",
       "      <td>Attack</td>\n",
       "    </tr>\n",
       "    <tr>\n",
       "      <th>25</th>\n",
       "      <td>Location</td>\n",
       "      <td>New York - New York - US</td>\n",
       "    </tr>\n",
       "    <tr>\n",
       "      <th>26</th>\n",
       "      <td>Country</td>\n",
       "      <td>USA</td>\n",
       "    </tr>\n",
       "    <tr>\n",
       "      <th>27</th>\n",
       "      <td>Phase</td>\n",
       "      <td>ENR</td>\n",
       "    </tr>\n",
       "    <tr>\n",
       "      <th>28</th>\n",
       "      <td>Date</td>\n",
       "      <td>2001-09-11</td>\n",
       "    </tr>\n",
       "    <tr>\n",
       "      <th>29</th>\n",
       "      <td>Latitude</td>\n",
       "      <td>40.7143528</td>\n",
       "    </tr>\n",
       "    <tr>\n",
       "      <th>...</th>\n",
       "      <td>...</td>\n",
       "      <td>...</td>\n",
       "    </tr>\n",
       "    <tr>\n",
       "      <th>898</th>\n",
       "      <td>Total Dead</td>\n",
       "      <td>150</td>\n",
       "    </tr>\n",
       "    <tr>\n",
       "      <th>899</th>\n",
       "      <td>Crew</td>\n",
       "      <td>14</td>\n",
       "    </tr>\n",
       "    <tr>\n",
       "      <th>900</th>\n",
       "      <td>Passengers</td>\n",
       "      <td>146</td>\n",
       "    </tr>\n",
       "    <tr>\n",
       "      <th>901</th>\n",
       "      <td>Ground</td>\n",
       "      <td>0</td>\n",
       "    </tr>\n",
       "    <tr>\n",
       "      <th>902</th>\n",
       "      <td>Notes</td>\n",
       "      <td>No survivors</td>\n",
       "    </tr>\n",
       "    <tr>\n",
       "      <th>903</th>\n",
       "      <td>Type</td>\n",
       "      <td>COM</td>\n",
       "    </tr>\n",
       "    <tr>\n",
       "      <th>904</th>\n",
       "      <td>Reason</td>\n",
       "      <td>Accident</td>\n",
       "    </tr>\n",
       "    <tr>\n",
       "      <th>905</th>\n",
       "      <td>Location</td>\n",
       "      <td>Xian - China</td>\n",
       "    </tr>\n",
       "    <tr>\n",
       "      <th>906</th>\n",
       "      <td>Country</td>\n",
       "      <td>China</td>\n",
       "    </tr>\n",
       "    <tr>\n",
       "      <th>907</th>\n",
       "      <td>Phase</td>\n",
       "      <td>ENR</td>\n",
       "    </tr>\n",
       "    <tr>\n",
       "      <th>908</th>\n",
       "      <td>Date</td>\n",
       "      <td>1984-06-06</td>\n",
       "    </tr>\n",
       "    <tr>\n",
       "      <th>909</th>\n",
       "      <td>Latitude</td>\n",
       "      <td>34.341568</td>\n",
       "    </tr>\n",
       "    <tr>\n",
       "      <th>910</th>\n",
       "      <td>Longitude</td>\n",
       "      <td>108.940175</td>\n",
       "    </tr>\n",
       "    <tr>\n",
       "      <th>911</th>\n",
       "      <td>Circumstances</td>\n",
       "      <td>Bad Visibility by Night</td>\n",
       "    </tr>\n",
       "    <tr>\n",
       "      <th>912</th>\n",
       "      <td>Incident American Airlines Flight 965 involvin...</td>\n",
       "      <td>NaN</td>\n",
       "    </tr>\n",
       "    <tr>\n",
       "      <th>913</th>\n",
       "      <td>Casualties</td>\n",
       "      <td>Extremely High</td>\n",
       "    </tr>\n",
       "    <tr>\n",
       "      <th>914</th>\n",
       "      <td>Total Dead</td>\n",
       "      <td>159</td>\n",
       "    </tr>\n",
       "    <tr>\n",
       "      <th>915</th>\n",
       "      <td>Crew</td>\n",
       "      <td>8</td>\n",
       "    </tr>\n",
       "    <tr>\n",
       "      <th>916</th>\n",
       "      <td>Passengers</td>\n",
       "      <td>151</td>\n",
       "    </tr>\n",
       "    <tr>\n",
       "      <th>917</th>\n",
       "      <td>Ground</td>\n",
       "      <td>0</td>\n",
       "    </tr>\n",
       "    <tr>\n",
       "      <th>918</th>\n",
       "      <td>Notes</td>\n",
       "      <td>Some survivors</td>\n",
       "    </tr>\n",
       "    <tr>\n",
       "      <th>919</th>\n",
       "      <td>Type</td>\n",
       "      <td>COM</td>\n",
       "    </tr>\n",
       "    <tr>\n",
       "      <th>920</th>\n",
       "      <td>Reason</td>\n",
       "      <td>Accident</td>\n",
       "    </tr>\n",
       "    <tr>\n",
       "      <th>921</th>\n",
       "      <td>Location</td>\n",
       "      <td>Buga - Colombia</td>\n",
       "    </tr>\n",
       "    <tr>\n",
       "      <th>922</th>\n",
       "      <td>Country</td>\n",
       "      <td>Colombia</td>\n",
       "    </tr>\n",
       "    <tr>\n",
       "      <th>923</th>\n",
       "      <td>Phase</td>\n",
       "      <td>APR</td>\n",
       "    </tr>\n",
       "    <tr>\n",
       "      <th>924</th>\n",
       "      <td>Date</td>\n",
       "      <td>1995-12-20</td>\n",
       "    </tr>\n",
       "    <tr>\n",
       "      <th>925</th>\n",
       "      <td>Latitude</td>\n",
       "      <td>3.9</td>\n",
       "    </tr>\n",
       "    <tr>\n",
       "      <th>926</th>\n",
       "      <td>Longitude</td>\n",
       "      <td>-76.3</td>\n",
       "    </tr>\n",
       "    <tr>\n",
       "      <th>927</th>\n",
       "      <td>Circumstances</td>\n",
       "      <td>Bad Visibility by Night</td>\n",
       "    </tr>\n",
       "  </tbody>\n",
       "</table>\n",
       "<p>928 rows × 2 columns</p>\n",
       "</div>"
      ],
      "text/plain": [
       "                                                 split  \\\n",
       "0    Incident American Airlines Flight 11 involving...   \n",
       "1                                           Casualties   \n",
       "2                                           Total Dead   \n",
       "3                                                 Crew   \n",
       "4                                           Passengers   \n",
       "5                                               Ground   \n",
       "6                                                Notes   \n",
       "7                                                 Type   \n",
       "8                                               Reason   \n",
       "9                                             Location   \n",
       "10                                             Country   \n",
       "11                                               Phase   \n",
       "12                                                Date   \n",
       "13                                            Latitude   \n",
       "14                                           Longitude   \n",
       "15                                       Circumstances   \n",
       "16   Incident United Airlines Flight 175 involving ...   \n",
       "17                                          Casualties   \n",
       "18                                          Total Dead   \n",
       "19                                                Crew   \n",
       "20                                          Passengers   \n",
       "21                                              Ground   \n",
       "22                                               Notes   \n",
       "23                                                Type   \n",
       "24                                              Reason   \n",
       "25                                            Location   \n",
       "26                                             Country   \n",
       "27                                               Phase   \n",
       "28                                                Date   \n",
       "29                                            Latitude   \n",
       "..                                                 ...   \n",
       "898                                         Total Dead   \n",
       "899                                               Crew   \n",
       "900                                         Passengers   \n",
       "901                                             Ground   \n",
       "902                                              Notes   \n",
       "903                                               Type   \n",
       "904                                             Reason   \n",
       "905                                           Location   \n",
       "906                                            Country   \n",
       "907                                              Phase   \n",
       "908                                               Date   \n",
       "909                                           Latitude   \n",
       "910                                          Longitude   \n",
       "911                                      Circumstances   \n",
       "912  Incident American Airlines Flight 965 involvin...   \n",
       "913                                         Casualties   \n",
       "914                                         Total Dead   \n",
       "915                                               Crew   \n",
       "916                                         Passengers   \n",
       "917                                             Ground   \n",
       "918                                              Notes   \n",
       "919                                               Type   \n",
       "920                                             Reason   \n",
       "921                                           Location   \n",
       "922                                            Country   \n",
       "923                                              Phase   \n",
       "924                                               Date   \n",
       "925                                           Latitude   \n",
       "926                                          Longitude   \n",
       "927                                      Circumstances   \n",
       "\n",
       "                       split1  \n",
       "0                         NaN  \n",
       "1              Extremely High  \n",
       "2                        1692  \n",
       "3                          11  \n",
       "4                          81  \n",
       "5                        1600  \n",
       "6                No survivors  \n",
       "7                         INH  \n",
       "8                      Attack  \n",
       "9    New York - New York - US  \n",
       "10                         US  \n",
       "11                        ENR  \n",
       "12                 2001-09-11  \n",
       "13                 40.7143528  \n",
       "14                -74.0059731  \n",
       "15     Good Visibility by Day  \n",
       "16                        NaN  \n",
       "17             Extremely High  \n",
       "18                        965  \n",
       "19                          9  \n",
       "20                         56  \n",
       "21                        900  \n",
       "22               No survivors  \n",
       "23                        INH  \n",
       "24                     Attack  \n",
       "25   New York - New York - US  \n",
       "26                        USA  \n",
       "27                        ENR  \n",
       "28                 2001-09-11  \n",
       "29                 40.7143528  \n",
       "..                        ...  \n",
       "898                       150  \n",
       "899                        14  \n",
       "900                       146  \n",
       "901                         0  \n",
       "902              No survivors  \n",
       "903                       COM  \n",
       "904                  Accident  \n",
       "905              Xian - China  \n",
       "906                     China  \n",
       "907                       ENR  \n",
       "908                1984-06-06  \n",
       "909                 34.341568  \n",
       "910                108.940175  \n",
       "911   Bad Visibility by Night  \n",
       "912                       NaN  \n",
       "913            Extremely High  \n",
       "914                       159  \n",
       "915                         8  \n",
       "916                       151  \n",
       "917                         0  \n",
       "918            Some survivors  \n",
       "919                       COM  \n",
       "920                  Accident  \n",
       "921           Buga - Colombia  \n",
       "922                  Colombia  \n",
       "923                       APR  \n",
       "924                1995-12-20  \n",
       "925                       3.9  \n",
       "926                     -76.3  \n",
       "927   Bad Visibility by Night  \n",
       "\n",
       "[928 rows x 2 columns]"
      ]
     },
     "execution_count": 14,
     "metadata": {},
     "output_type": "execute_result"
    }
   ],
   "source": [
    "df = df.dropna(how='all') \n",
    "df"
   ]
  },
  {
   "cell_type": "markdown",
   "metadata": {},
   "source": [
    "## Step 3  'Fill down'\n",
    "\n",
    "We want to 'fill down' the indexes  (e.g. lines 1 to 15 should be associated with line 0)\n",
    "\n",
    "There are several options\n",
    "* na.locf() method from zoo package. \n",
    "* ddply() from plyr\n",
    "* bfill()\n",
    "* fillna()\n"
   ]
  },
  {
   "cell_type": "code",
   "execution_count": null,
   "metadata": {
    "collapsed": true
   },
   "outputs": [],
   "source": [
    "# magic, take the previous value (not NaN) and fill down\n",
    "df =\n",
    "# http://pandas.pydata.org/pandas-docs/stable/missing_data.html#filling-missing-values-fillna"
   ]
  },
  {
   "cell_type": "code",
   "execution_count": null,
   "metadata": {
    "collapsed": true
   },
   "outputs": [],
   "source": [
    "df.head(200)"
   ]
  },
  {
   "cell_type": "markdown",
   "metadata": {},
   "source": [
    "## Step 4 Remove the index row\n",
    "\n",
    "We need to delete all the 'incident' rows, they have served their purpose and are now redundant. "
   ]
  },
  {
   "cell_type": "code",
   "execution_count": null,
   "metadata": {
    "collapsed": true
   },
   "outputs": [],
   "source": [
    "# use str.contain function to get the row index.\n",
    "# keep everything that doesn't have \"Incident\" in it \n",
    "df = \n",
    "# do we need to worry about a plane called \"Incident\" or \"Incident weather\" etc???"
   ]
  },
  {
   "cell_type": "code",
   "execution_count": null,
   "metadata": {
    "collapsed": true
   },
   "outputs": [],
   "source": [
    "# and check with e.g. df.shape \n",
    "print df.shape\n",
    "df"
   ]
  },
  {
   "cell_type": "markdown",
   "metadata": {},
   "source": [
    "## Now to 'unfold', there are several options\n",
    "\n",
    "* melt()\n",
    "* stack, unstack?\n",
    "* pivot_table()\n",
    "* pivot()\n",
    "\n",
    "http://pandas.pydata.org/pandas-docs/stable/reshaping.html"
   ]
  },
  {
   "cell_type": "code",
   "execution_count": null,
   "metadata": {
    "collapsed": true
   },
   "outputs": [],
   "source": [
    "data = df.pivot('extract', 'split', 'split1') \n",
    "# the parameters above are (left to right) index, columns, values \n",
    "# You can also write it like this:\n",
    "#data = df.pivot(index = 'extract', columns = 'split', values = 'split1') "
   ]
  },
  {
   "cell_type": "code",
   "execution_count": null,
   "metadata": {
    "collapsed": true
   },
   "outputs": [],
   "source": [
    "data.shape "
   ]
  },
  {
   "cell_type": "code",
   "execution_count": null,
   "metadata": {
    "collapsed": true,
    "scrolled": false
   },
   "outputs": [],
   "source": [
    "data.head() # 58 records, good, but lost plane type, bad\n",
    "# where's 'extract1' - can we have multiple indexes or have to put that data back in?"
   ]
  },
  {
   "cell_type": "markdown",
   "metadata": {},
   "source": [
    "### Problem:\n",
    "\n",
    "we have two columns we want to pivot on, 'extract' & 'extract1' (AKA flight & plane) but\n",
    "\n",
    "pivot() can't have multiple indexes...\n",
    "\n",
    "e.g. df.pivot(index = ['extract','extract1'], 'split', 'split1') # error\n",
    "\n",
    "pivot_table() can but insists on doing some accounting or aggreagating too, like sum or avg, which we don't need\n",
    "\n",
    "e.g. pd.pivot_table(df, values='split1', index = ['extract','extract1'], columns='split') # error, no function \n",
    "\n",
    "### Solutions? \n",
    "\n",
    "use pivot() then force the other column back into the data?? \n",
    "\n",
    "or trick pivot_table() into doing some pointless accounting (that adds up to nothing)??\n",
    "\n",
    "try something else... stack, unstack, group, dplyr?\n",
    "\n",
    "DIY code??\n",
    "\n",
    "\n",
    "\n",
    "![](http://www.desktopimages.org/pictures/2014/0212/1/orig_150933.jpg)"
   ]
  },
  {
   "cell_type": "code",
   "execution_count": null,
   "metadata": {
    "collapsed": true,
    "scrolled": true
   },
   "outputs": [],
   "source": [
    "# solution: make the function a copy, x = x\n",
    "# data = pd.pivot_table(df, index=[\"extract\",\"extract1\"], columns = 'split', values = 'split1', aggfunc = lambda x: x)   \n",
    "# or \n",
    "data = pd.pivot_table(df, index=[\"extract\",\"extract1\"], columns = 'split', values = 'split1', aggfunc = 'max') \n",
    "# ha, cop that\n",
    "# http://stackoverflow.com/questions/19279229/pandas-pivot-table-with-non-numeric-values-dataerror-no-numeric-types-to-ag\n",
    "\n",
    "data # not using df anymore, keep it as backup"
   ]
  },
  {
   "cell_type": "markdown",
   "metadata": {},
   "source": [
    "### That's most of the wrangling as was done with DataWrangler, there are a few more optional steps:\n",
    "* want the manufacturer e.g. Beoing?\n",
    "* remove 'extract' & 'extract1'?\n",
    "* rename columns ('split') \n",
    "* extract year into new column \n",
    "* export e.g. df.to_csv(file_name, sep=',')"
   ]
  },
  {
   "cell_type": "code",
   "execution_count": null,
   "metadata": {
    "collapsed": true
   },
   "outputs": [],
   "source": [
    "#data.reset_index()"
   ]
  },
  {
   "cell_type": "markdown",
   "metadata": {},
   "source": [
    "# Part 2 \n",
    "\n",
    "## Wait there's more:\n",
    "\n",
    "Bad, bad data\n",
    "\n",
    "This data has been deliberately damaged (sorry)\n",
    "\n",
    "Some are obvious, some are subtle (some were already there... e.g. look for 'Â')\n",
    "\n",
    "### See if you can find them"
   ]
  },
  {
   "cell_type": "code",
   "execution_count": null,
   "metadata": {
    "collapsed": true
   },
   "outputs": [],
   "source": [
    "# start with a summary table\n",
    "data.describe()"
   ]
  },
  {
   "cell_type": "markdown",
   "metadata": {},
   "source": [
    "### describe() shows:\n",
    "\n",
    "* count - we can see that there are 58 records across the board, no surprise (what would it mean if there were non 58s?)\n",
    "* unique - looks like all the 'Casualties' are identical (unique = 1, i.e. all 'Extremely High'), maybe this column is redundant?\n",
    "* top - interesting, there were two major disasters in the exact same place? Check dates?\n",
    "* freq - also interesting, 3 times there were 156 passengers on flights... superstitious? Or is it bad data?\n",
    "\n",
    "So some clues here, dig deeper:"
   ]
  },
  {
   "cell_type": "code",
   "execution_count": null,
   "metadata": {
    "collapsed": true
   },
   "outputs": [],
   "source": [
    "#We can also describe individual columns:\n",
    "data['Crew'].describe()"
   ]
  },
  {
   "cell_type": "code",
   "execution_count": null,
   "metadata": {
    "collapsed": true
   },
   "outputs": [],
   "source": [
    "# nothing new here, the most common number crew size is 14 (7 times)\n",
    "# what's the biggest crew?\n",
    "data['Crew'].max()"
   ]
  },
  {
   "cell_type": "markdown",
   "metadata": {},
   "source": [
    "\n",
    "Why 9 (or even '9')?\n",
    "\n",
    "How can this max be less than 14?\n",
    "\n",
    "Are these even numbers?\n"
   ]
  },
  {
   "cell_type": "code",
   "execution_count": null,
   "metadata": {
    "collapsed": true
   },
   "outputs": [],
   "source": [
    "data['Crew'].mean() # expecting ~15, they were all big planes?"
   ]
  },
  {
   "cell_type": "markdown",
   "metadata": {},
   "source": [
    "This is weird\n",
    "\n",
    "If they are numbers it should be higher\n",
    "\n",
    "If they are not numbers, what does mean 'mean'? "
   ]
  },
  {
   "cell_type": "code",
   "execution_count": null,
   "metadata": {
    "collapsed": true
   },
   "outputs": [],
   "source": [
    "data[data['Crew'] == 14] # look at all the crew = 14 planes, should be 7"
   ]
  },
  {
   "cell_type": "code",
   "execution_count": null,
   "metadata": {
    "collapsed": true
   },
   "outputs": [],
   "source": [
    "# there are none... try this:\n",
    "data[data['Crew'] == '14'] "
   ]
  },
  {
   "cell_type": "code",
   "execution_count": null,
   "metadata": {
    "collapsed": true
   },
   "outputs": [],
   "source": [
    "# so there's a clue, 14 vs '14' \n",
    "# what are these data types anyway?\n",
    "data.dtypes"
   ]
  },
  {
   "cell_type": "markdown",
   "metadata": {},
   "source": [
    "### All data are of type object... \n",
    "### Overruled:"
   ]
  },
  {
   "cell_type": "code",
   "execution_count": null,
   "metadata": {
    "collapsed": true
   },
   "outputs": [],
   "source": [
    "data = data.convert_objects(convert_numeric = True) \n",
    "# this is a bit brutal, can you convert when data is loaded?"
   ]
  },
  {
   "cell_type": "code",
   "execution_count": null,
   "metadata": {
    "collapsed": true
   },
   "outputs": [],
   "source": [
    "data.dtypes"
   ]
  },
  {
   "cell_type": "code",
   "execution_count": null,
   "metadata": {
    "collapsed": true
   },
   "outputs": [],
   "source": [
    "# so now we have some numbers (int & float)\n",
    "data.describe()"
   ]
  },
  {
   "cell_type": "markdown",
   "metadata": {},
   "source": [
    "### Better, more information, describe() now shows:\n",
    "* count - as above, all 58\n",
    "* mean - crew ~15, seems OK, but mean lat & long doesn't mean much... or does it?\n",
    "* std - Standard Deviation\n",
    "* min - now we see some problems, zero crew? Was this a way to code a hijacking, or is it missing, or should it be 10, 20, 30?\n",
    "* 25, 50 & 75% are quartiles...\n",
    "* max - crew 181, no way! 1692 dead, no plane is that big... or could this be Lockerbie, i.e. plane hit town\n",
    "\n",
    "Let's investigate the crew data:"
   ]
  },
  {
   "cell_type": "code",
   "execution_count": null,
   "metadata": {
    "collapsed": true
   },
   "outputs": [],
   "source": [
    "data[data['Crew'] > 20] # try also e.g. < 10"
   ]
  },
  {
   "cell_type": "markdown",
   "metadata": {},
   "source": [
    "So Boeing 747s have large crews...\n",
    "#### 33 crew is that possible? Or is that two flights?\n",
    "\n",
    "#### 181 crew? Same value as for 'Total dead', can you derive crew from dead minus passengers?\n",
    "(or does 'Some survivors' corrupt the maths?)\n",
    "\n",
    "\n",
    "# Another way to explore... plot that data:\n"
   ]
  },
  {
   "cell_type": "code",
   "execution_count": null,
   "metadata": {
    "collapsed": true
   },
   "outputs": [],
   "source": [
    "%matplotlib inline \n",
    "# notebook majik to display plots in the notebook\n",
    "\n",
    "data[['Crew','Passengers']].plot(x= 'Crew',y= 'Passengers',kind= 'scatter')"
   ]
  },
  {
   "cell_type": "markdown",
   "metadata": {},
   "source": [
    "#### And there's the extreme outlier\n",
    "#### Are there any others?"
   ]
  },
  {
   "cell_type": "code",
   "execution_count": null,
   "metadata": {
    "collapsed": true
   },
   "outputs": [],
   "source": [
    "# so how to put a number to an outlier?\n",
    "data['Crew'].max() # works, now that they are numbers"
   ]
  },
  {
   "cell_type": "code",
   "execution_count": null,
   "metadata": {
    "collapsed": true
   },
   "outputs": [],
   "source": [
    "data[data['Crew']==data['Crew'].max()]"
   ]
  },
  {
   "cell_type": "markdown",
   "metadata": {},
   "source": [
    "## Plotting non-numeric data"
   ]
  },
  {
   "cell_type": "code",
   "execution_count": null,
   "metadata": {
    "collapsed": true
   },
   "outputs": [],
   "source": [
    "data['Phase'].value_counts().plot(kind='bar')\n",
    "# you can guess some of these codes\n",
    "# ENR = en route?\n",
    "# APR = Aproach\n",
    "# Takeoff, Landing\n",
    "# ICL?"
   ]
  },
  {
   "cell_type": "code",
   "execution_count": null,
   "metadata": {
    "collapsed": true
   },
   "outputs": [],
   "source": [
    "# not much point in plotting Casualties... so what the hey\n",
    "data['Casualties'].value_counts().plot(kind='bar')"
   ]
  },
  {
   "cell_type": "markdown",
   "metadata": {},
   "source": [
    "# To do: find any other data problems (there are about 10)\n",
    "\n",
    "<br>\n",
    "\n",
    "![](http://media1.popsugar-assets.com/files/thumbor/yjoSwHRBZ4MpTO3TN6lvI_gsKMI/fit-in/2048xorig/filters:format_auto-!!-:strip_icc-!!-/2016/03/02/901/n/1922283/01f64bd801c06153_game4/i/When-Everyone-Trying-Talk-You-Youre-Too-Hungry-Care.gif)\n",
    "\n",
    "#### Post your suspected bad data cases in Moodle discussion forums, how you found it, and suggested fixes\n",
    "(one or two each, share the load)\n"
   ]
  },
  {
   "cell_type": "code",
   "execution_count": null,
   "metadata": {
    "collapsed": true
   },
   "outputs": [],
   "source": [
    "# go crazy"
   ]
  },
  {
   "cell_type": "markdown",
   "metadata": {},
   "source": [
    "#### Can data be 'typed' as it is read in? \n",
    "(yes see 'dtype')\n",
    "http://pandas.pydata.org/pandas-docs/stable/generated/pandas.read_csv.html\n",
    "#### What happens if this process encounters bad data?\n",
    "\n",
    "#### So why is 'Crew' max '9' above?\n",
    "\n",
    "#### When a plane hits another plane is that one record or two?\n",
    "\n",
    "#### Can DataWrangler do this sort of wrangling? \n",
    "\n"
   ]
  },
  {
   "cell_type": "code",
   "execution_count": null,
   "metadata": {
    "collapsed": true
   },
   "outputs": [],
   "source": []
  }
 ],
 "metadata": {
  "anaconda-cloud": {},
  "kernelspec": {
   "display_name": "Python 3",
   "language": "python",
   "name": "python3"
  },
  "language_info": {
   "codemirror_mode": {
    "name": "ipython",
    "version": 3
   },
   "file_extension": ".py",
   "mimetype": "text/x-python",
   "name": "python",
   "nbconvert_exporter": "python",
   "pygments_lexer": "ipython3",
   "version": "3.6.3"
  },
  "name": "DataWranglering with Python.ipynb"
 },
 "nbformat": 4,
 "nbformat_minor": 1
}
