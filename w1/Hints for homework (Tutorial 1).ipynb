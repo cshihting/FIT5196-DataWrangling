{
 "cells": [
  {
   "cell_type": "code",
   "execution_count": null,
   "metadata": {
    "collapsed": false
   },
   "outputs": [],
   "source": [
    "import pandas as pd \n",
    "\n",
    "df = pd.read_csv('AirCrashes.csv', names = ['split', 'split1']) \n",
    "\n",
    "df.insert(1, 'extract', df['split'].str.extract(\"Incident (.*) involving\"))\n",
    "\n",
    "df.insert(1, 'extract1', df['split'].str.extract(\" a (.*) in \"))\n",
    "\n",
    "df = df.fillna(method = 'pad') \n",
    "\n",
    "df = df[df['split'].str.contains(\"Incident\") == False] \n",
    "\n",
    "data = df.pivot('extract', 'split', 'split1') \n",
    "data = pd.pivot_table(df, index=[\"extract\",\"extract1\"], columns = 'split', values = 'split1', aggfunc = lambda x: x.iloc[0])\n",
    "print (data.shape)\n",
    "data.dtypes\n"
   ]
  },
  {
   "cell_type": "code",
   "execution_count": null,
   "metadata": {
    "collapsed": false
   },
   "outputs": [],
   "source": [
    "data.head()"
   ]
  },
  {
   "cell_type": "markdown",
   "metadata": {},
   "source": [
    "Change the data type"
   ]
  },
  {
   "cell_type": "code",
   "execution_count": null,
   "metadata": {
    "collapsed": false
   },
   "outputs": [],
   "source": [
    "data.dtypes"
   ]
  },
  {
   "cell_type": "code",
   "execution_count": null,
   "metadata": {
    "collapsed": true
   },
   "outputs": [],
   "source": [
    "data['Total Dead'] = data['Total Dead'].astype('int')\n",
    "data['Ground'] = data['Ground'].astype('int')\n",
    "data['Crew'] = data['Crew'].astype('int')\n",
    "data['Passengers'] = data['Passengers'].astype('int')\n",
    "data['Longitude'] = data['Longitude'].astype('float')\n",
    "data['Latitude'] = data['Latitude'].astype('float')"
   ]
  },
  {
   "cell_type": "markdown",
   "metadata": {},
   "source": [
    "# Problem 1:  a flight with zero passengers"
   ]
  },
  {
   "cell_type": "code",
   "execution_count": null,
   "metadata": {
    "collapsed": false
   },
   "outputs": [],
   "source": [
    "data['Passengers'].describe()"
   ]
  },
  {
   "cell_type": "code",
   "execution_count": null,
   "metadata": {
    "collapsed": false
   },
   "outputs": [],
   "source": [
    "data[data['Passengers'] == 0]"
   ]
  },
  {
   "cell_type": "markdown",
   "metadata": {},
   "source": [
    "# Problem 2: An accident with zero dead"
   ]
  },
  {
   "cell_type": "code",
   "execution_count": null,
   "metadata": {
    "collapsed": false
   },
   "outputs": [],
   "source": [
    "data['Total Dead'].describe()"
   ]
  },
  {
   "cell_type": "code",
   "execution_count": null,
   "metadata": {
    "collapsed": false
   },
   "outputs": [],
   "source": [
    "idx = (data[data['Total Dead'] == 0].index.tolist()) # use a list in case there's more than one\n",
    "data.loc[idx]"
   ]
  },
  {
   "cell_type": "markdown",
   "metadata": {},
   "source": [
    "# Problem 3: Wrong notes\n",
    "\n",
    "If we assume that the <font color=\"orange\">Notes</font> should be \"no survivors\" of \n",
    "```\n",
    "    Total Dead = Crew + Passengers + Ground\n",
    "```\n",
    "Then there are some records having wrong <font color=\"orange\">Notes</font>."
   ]
  },
  {
   "cell_type": "code",
   "execution_count": null,
   "metadata": {
    "collapsed": false
   },
   "outputs": [],
   "source": [
    "#\"no survivors\" <=> total dead == crew + passengers + ground\n",
    "tmp_data = data[(data['Total Dead'] == data['Crew'] + data['Passengers'] + data['Ground'])]\n",
    "tmp_data[tmp_data['Notes'] != 'No survivors']"
   ]
  },
  {
   "cell_type": "code",
   "execution_count": null,
   "metadata": {
    "collapsed": false
   },
   "outputs": [],
   "source": [
    "tmp_data[tmp_data['Notes']== 'Some survivors']"
   ]
  },
  {
   "cell_type": "markdown",
   "metadata": {},
   "source": [
    "# Problem 4: Total dead is wrong"
   ]
  },
  {
   "cell_type": "code",
   "execution_count": null,
   "metadata": {
    "collapsed": false
   },
   "outputs": [],
   "source": [
    "# total dead >= ground\n",
    "idx = (data[data['Total Dead'] < data['Ground']].index.tolist()) \n",
    "data.loc[idx] #should be nothing"
   ]
  },
  {
   "cell_type": "markdown",
   "metadata": {},
   "source": [
    "# Problem 5: US and USA"
   ]
  },
  {
   "cell_type": "code",
   "execution_count": null,
   "metadata": {
    "collapsed": false
   },
   "outputs": [],
   "source": [
    "data['Country'].value_counts()"
   ]
  },
  {
   "cell_type": "markdown",
   "metadata": {},
   "source": [
    "# Problem 6: \"Hawker Siddeley Trident 3B and\""
   ]
  },
  {
   "cell_type": "code",
   "execution_count": null,
   "metadata": {
    "collapsed": false
   },
   "outputs": [],
   "source": [
    "#Now we look at 'extract1'\n",
    "data.index.get_level_values('extract1').value_counts()"
   ]
  },
  {
   "cell_type": "code",
   "execution_count": null,
   "metadata": {
    "collapsed": false
   },
   "outputs": [],
   "source": [
    "# search \"Hawker Siddeley Trident 3B and\"\n",
    "data.loc[data.index.get_level_values('extract1')=='Hawker Siddeley Trident 3B and']"
   ]
  },
  {
   "cell_type": "code",
   "execution_count": null,
   "metadata": {
    "collapsed": false
   },
   "outputs": [],
   "source": [
    "#We get nothing. How come? We search it maually\n",
    "print (data.index.get_level_values('extract1')[20])\n",
    "data.index.get_level_values('extract1')[20]"
   ]
  },
  {
   "cell_type": "markdown",
   "metadata": {},
   "source": [
    "# Problem 7: \"All Nippon Airways Flight 58 and\""
   ]
  },
  {
   "cell_type": "code",
   "execution_count": null,
   "metadata": {
    "collapsed": false
   },
   "outputs": [],
   "source": [
    "#now we look at 'extract'\n",
    "data.index.get_level_values('extract').value_counts()"
   ]
  },
  {
   "cell_type": "markdown",
   "metadata": {},
   "source": [
    "# Problem 8: Type is missing "
   ]
  },
  {
   "cell_type": "code",
   "execution_count": null,
   "metadata": {
    "collapsed": false
   },
   "outputs": [],
   "source": [
    "# about \"Tpye\"\n",
    "data['Type'].value_counts()"
   ]
  },
  {
   "cell_type": "code",
   "execution_count": null,
   "metadata": {
    "collapsed": false
   },
   "outputs": [],
   "source": [
    "idx = data[data['Type'].str.contains(' ')].index.tolist()\n",
    "data.loc[idx]"
   ]
  },
  {
   "cell_type": "markdown",
   "metadata": {},
   "source": [
    "# Problem 9: Month \"19\" "
   ]
  },
  {
   "cell_type": "code",
   "execution_count": null,
   "metadata": {
    "collapsed": false
   },
   "outputs": [],
   "source": [
    "import numpy as np\n",
    "i = 0\n",
    "for v in pd.to_datetime(data['Date'], errors = 'coerce').values: \n",
    "    if v.astype(str) == 'NaT':\n",
    "        break \n",
    "    i = i + 1\n",
    "data['Date'].values[i]"
   ]
  },
  {
   "cell_type": "markdown",
   "metadata": {},
   "source": [
    "# Problem 10:  Date out of range "
   ]
  },
  {
   "cell_type": "code",
   "execution_count": null,
   "metadata": {
    "collapsed": false
   },
   "outputs": [],
   "source": [
    "l = pd.date_range('19500101','20150101')\n",
    "i = 0\n",
    "for v in pd.to_datetime(data['Date'], errors = 'coerce').values: \n",
    "    if v not in l:\n",
    "        break \n",
    "    i = i + 1\n",
    "data['Date'].values[i]"
   ]
  },
  {
   "cell_type": "markdown",
   "metadata": {
    "collapsed": true
   },
   "source": [
    "# Problem 11: \"beoing\" and \"boeing\""
   ]
  },
  {
   "cell_type": "code",
   "execution_count": null,
   "metadata": {
    "collapsed": false
   },
   "outputs": [],
   "source": [
    "plane_type = [c.split(' ')[0] for c in data.index.get_level_values('extract1')]\n",
    "plane_type = set(plane_type)\n",
    "plane_type"
   ]
  },
  {
   "cell_type": "code",
   "execution_count": null,
   "metadata": {
    "collapsed": false
   },
   "outputs": [],
   "source": [
    "typo = [c for c in data.index.get_level_values('extract1') if c.startswith('Beoing')]\n",
    "typo"
   ]
  },
  {
   "cell_type": "code",
   "execution_count": null,
   "metadata": {
    "collapsed": false
   },
   "outputs": [],
   "source": [
    "data.iloc[data.index.get_level_values('extract1') == typo[0]]"
   ]
  },
  {
   "cell_type": "markdown",
   "metadata": {},
   "source": [
    "# Problem 12: Longitude and Latitude"
   ]
  },
  {
   "cell_type": "code",
   "execution_count": null,
   "metadata": {
    "collapsed": false
   },
   "outputs": [],
   "source": [
    "idx = (data[data['Latitude']<-90].index.tolist()) \n",
    "data.loc[idx]"
   ]
  },
  {
   "cell_type": "code",
   "execution_count": null,
   "metadata": {
    "collapsed": false
   },
   "outputs": [],
   "source": [
    "idx = (data[data['Latitude']>90].index.tolist()) \n",
    "data.loc[idx]"
   ]
  },
  {
   "cell_type": "code",
   "execution_count": null,
   "metadata": {
    "collapsed": false
   },
   "outputs": [],
   "source": [
    "idx = (data[data['Longitude']>180].index.tolist()) \n",
    "data.loc[idx]"
   ]
  },
  {
   "cell_type": "code",
   "execution_count": null,
   "metadata": {
    "collapsed": false
   },
   "outputs": [],
   "source": [
    "idx = (data[data['Longitude']<-180].index.tolist()) \n",
    "data.loc[idx]"
   ]
  },
  {
   "cell_type": "markdown",
   "metadata": {},
   "source": [
    "# Problem 13: low total dead but \"Extremely High\" in casualties"
   ]
  },
  {
   "cell_type": "code",
   "execution_count": null,
   "metadata": {
    "collapsed": false
   },
   "outputs": [],
   "source": [
    "data.Casualties.value_counts()"
   ]
  },
  {
   "cell_type": "code",
   "execution_count": null,
   "metadata": {
    "collapsed": false
   },
   "outputs": [],
   "source": [
    "idx = (data[data['Casualties']== 'Extremely High'].index.tolist()) \n",
    "data.loc[idx]['Total Dead'].value_counts()"
   ]
  },
  {
   "cell_type": "code",
   "execution_count": null,
   "metadata": {
    "collapsed": false
   },
   "outputs": [],
   "source": [
    "idx = (data[data['Total Dead'] < 100].index.tolist()) \n",
    "data.loc[idx]"
   ]
  },
  {
   "cell_type": "markdown",
   "metadata": {},
   "source": [
    "\n",
    "## A bit more on pandas \n",
    "\n",
    "\n",
    "If I want to replace all 0 with np.missing, I can do this : "
   ]
  },
  {
   "cell_type": "code",
   "execution_count": null,
   "metadata": {
    "collapsed": false
   },
   "outputs": [],
   "source": [
    "data.replace(0,\"NA\")"
   ]
  },
  {
   "cell_type": "code",
   "execution_count": null,
   "metadata": {
    "collapsed": false
   },
   "outputs": [],
   "source": []
  },
  {
   "cell_type": "code",
   "execution_count": null,
   "metadata": {
    "collapsed": true
   },
   "outputs": [],
   "source": []
  }
 ],
 "metadata": {
  "anaconda-cloud": {},
  "kernelspec": {
   "display_name": "Python [conda env:python3]",
   "language": "python",
   "name": "conda-env-python3-py"
  },
  "language_info": {
   "codemirror_mode": {
    "name": "ipython",
    "version": 3
   },
   "file_extension": ".py",
   "mimetype": "text/x-python",
   "name": "python",
   "nbconvert_exporter": "python",
   "pygments_lexer": "ipython3",
   "version": "3.6.1"
  },
  "name": "DataWranglering with Python.ipynb"
 },
 "nbformat": 4,
 "nbformat_minor": 0
}
