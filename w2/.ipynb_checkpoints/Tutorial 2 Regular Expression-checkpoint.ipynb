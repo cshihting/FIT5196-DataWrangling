{
 "cells": [
  {
   "cell_type": "markdown",
   "metadata": {
    "collapsed": true
   },
   "source": [
    "# Tutorial 2 Regular expression\n",
    "\n",
    "In the lecture, you have learnt how to use regular expressions. To quickly review some regular expression syntax:\n",
    "\n",
    "\n",
    "* <font color=\"red\">[0-9]</font> Matches a single digit\n",
    "* <font color=\"red\">[a-z0-9]</font> Matches a single character that must be a lower case letter or a digit.\n",
    "* <font color=\"red\">[A-Za-z]</font> Matches a single character that much be a upper/lower case letter \n",
    "* <font color=\"red\">\\d</font> Matches any decimal digit; equivalent to the set [0-9].\n",
    "* <font color=\"red\">\\D</font> Matches characters that are not digits, which is equivalent to [^0-9] or [^\\d].\n",
    "* <font color=\"red\">\\w</font> Matches any alphanumeric character, which is equivalent to [a-zA-Z0-9].\n",
    "* <font color=\"red\">\\W</font> Matches any non-alphanumeric character; which is equivalent to [^a-zA-Z0-9] or [^\\w].\n",
    "* <font color=\"red\">\\s</font> Matches any whitespace character; which is equivalent to [\\t\\n\\r\\f\\v], where \\t indicates taps, \\n  line feeds, \\r carriage returns, \\f form feeds and \\v vertical tabs.\n",
    "* <font color=\"red\">\\S:</font> Matches any non-whitespace character; which is equivalent to  [^ \\t\\n\\r\\f\\v].\n",
    "* <font color=\"red\">ˆ</font> Matches the start of the line.\n",
    "* <font color=\"red\">$</font> Matches the end of the line.\n",
    "* <font color=\"red\">.</font> Matches any character (a wildcard).\n",
    "* <font color=\"red\">*</font> Matches when the preceding character occurs zero or more times\n",
    "* <font color=\"red\">?</font> Matches when the preceding character occurs zero or one times\n",
    "* <font color=\"red\">+</font> Matches when the preceding character occurs one or more times\n",
    "\n",
    "More information can be found here :\n",
    "https://docs.python.org/2/library/re.html\n",
    "* * *"
   ]
  },
  {
   "cell_type": "code",
   "execution_count": 1,
   "metadata": {},
   "outputs": [
    {
     "name": "stdout",
     "output_type": "stream",
     "text": [
      "sys.version_info(major=3, minor=6, micro=3, releaselevel='final', serial=0)\n"
     ]
    }
   ],
   "source": [
    "import sys\n",
    "print (sys.version_info)"
   ]
  },
  {
   "cell_type": "markdown",
   "metadata": {},
   "source": [
    "Libraries needed are:"
   ]
  },
  {
   "cell_type": "code",
   "execution_count": 2,
   "metadata": {},
   "outputs": [
    {
     "data": {
      "text/plain": [
       "'0.20.3'"
      ]
     },
     "execution_count": 2,
     "metadata": {},
     "output_type": "execute_result"
    }
   ],
   "source": [
    "import re # library for regular expression\n",
    "import pandas as pd\n",
    "pd.__version__"
   ]
  },
  {
   "cell_type": "markdown",
   "metadata": {},
   "source": [
    "## 1. Backslash \n",
    "\n",
    "**First, what is '\\'? **\n",
    "\n",
    "'\\', backslash or escape-character, is used to indicate special forms or to allow special characters to be used without invoking their special meaning.\n",
    "\n",
    "\n",
    "\n",
    "**How about r\"\" ? When to use it? **\n",
    "\n",
    "r\"\" is Python’s string literal prefix notation, which has nothing to do with regular expression.  By using r\"\" or r'', Python will not handle special characters in any special way, in another word, it treated the contents as raw string. For example, r\"\\t\" represents\n",
    "a two-character string containing '\\' and 't', whereas \"\\t\" represents tab.\n",
    "\n",
    "Sometimes you can use them interchangeably,"
   ]
  },
  {
   "cell_type": "code",
   "execution_count": 97,
   "metadata": {},
   "outputs": [
    {
     "name": "stdout",
     "output_type": "stream",
     "text": [
      "['\\t']\n",
      "Please find \t s\n",
      "['\\t']\n"
     ]
    }
   ],
   "source": [
    "str1 = re.findall('\\t', \"Please find \\t s\")\n",
    "print (str1)\n",
    "# s = \"Please find \\t s\"\n",
    "# print(s)\n",
    "\n",
    "str2 = re.findall(r'\\t', \"Please find \\t\")\n",
    "print (str2)"
   ]
  },
  {
   "cell_type": "markdown",
   "metadata": {},
   "source": [
    "Sometimes not!"
   ]
  },
  {
   "cell_type": "markdown",
   "metadata": {},
   "source": [
    "#### about \"\\1\"\n",
    "正则表达式中 \n",
    "‘\\1’ 匹配的是 字符 ‘\\1’ 。 (因为 ‘\\’ 匹配字符 ‘\\’ ) \n",
    "‘\\2’ 匹配的是 字符 ‘\\2’\n",
    "\n",
    "单独斜杠的 \\1 ， \\2 就是反向引用了。 \n",
    "‘\\1’ 匹配的是 所获取的第1个()匹配的引用。例如，’(\\d)\\1’ 匹配两个连续数字字符。如33aa 中的33 \n",
    "‘\\2’ 匹配的是 所获取的第2个()匹配的引用。 \n",
    "例如，’(\\d)(a)\\1’ 匹配第一是数字第二是字符a,第三\\1必须匹配第一个一样的数字重复一次，也就是被引用一次。如9a9 被匹配，但9a8不会被匹配，因为第三位的\\1必须是9才可以，\n",
    "\n",
    "‘(\\d)(a)\\2’ 匹配第一个是一个数字，第二个是a，第三个\\2必须是第二组（）中匹配一样的，如，8aa被匹配，但8ab，7a7不会被匹配，第三位必须是第二组字符的复制版，也是就引用第二组正则的匹配内容。\n",
    "\n",
    "以此类推\n",
    "https://blog.csdn.net/liangf05/article/details/79361191"
   ]
  },
  {
   "cell_type": "code",
   "execution_count": 87,
   "metadata": {},
   "outputs": [
    {
     "name": "stdout",
     "output_type": "stream",
     "text": [
      "<_sre.SRE_Match object; span=(0, 4), match=' g  '>\n"
     ]
    }
   ],
   "source": [
    "# https://blog.csdn.net/liangf05/article/details/79361191\n",
    "str1=re.match(r\"(\\W)(.)\\1\\W\", \" g  \") \n",
    "print (str1)"
   ]
  },
  {
   "cell_type": "code",
   "execution_count": 101,
   "metadata": {},
   "outputs": [
    {
     "name": "stdout",
     "output_type": "stream",
     "text": [
      "<_sre.SRE_Match object; span=(0, 4), match=' gg '>\n",
      "<_sre.SRE_Match object; span=(0, 5), match=' k1k '>\n",
      "<_sre.SRE_Match object; span=(0, 5), match=' mkk '>\n",
      "None\n",
      "<_sre.SRE_Match object; span=(0, 4), match=' f\\x01 '>\n",
      "<_sre.SRE_Match object; span=(0, 4), match=' ff '>\n"
     ]
    }
   ],
   "source": [
    "str1=re.match(r\"\\W(.)\\1\\W\", \" gg \") \n",
    "str11=re.match(r\"\\W(.)(.)\\1\\W\", \" k1k \") \n",
    "str12=re.match(r\"\\W(.)(.)\\2\\W\", \" mkk \") \n",
    "# \\1 is equivalent to re.search(...).group(1), \n",
    "# the first parentheses-delimited expression inside of the regex.\n",
    "print (str1)\n",
    "print (str11)\n",
    "print (str12)\n",
    "\n",
    "str2=re.match(\"\\W(.)\\1\\W\", \" ff \")\n",
    "str22=re.match(\"\\W(.)\\1\\W\", \" f\\1 \")\n",
    "print (str2)\n",
    "print (str22)\n",
    "\n",
    "str3=re.match(\"\\\\W(.)\\\\1\\\\W\", \" ff \")\n",
    "print (str3)"
   ]
  },
  {
   "cell_type": "markdown",
   "metadata": {},
   "source": [
    "\"\\W(.)\\1\\W\" doesn't match ?  What is the difference? "
   ]
  },
  {
   "cell_type": "code",
   "execution_count": 5,
   "metadata": {},
   "outputs": [
    {
     "name": "stdout",
     "output_type": "stream",
     "text": [
      "\\W(.)\u0001\\W\n"
     ]
    },
    {
     "data": {
      "text/plain": [
       "'\\\\W(.)\\x01\\\\W'"
      ]
     },
     "execution_count": 5,
     "metadata": {},
     "output_type": "execute_result"
    }
   ],
   "source": [
    "# 沒有r，表示與group的第一個位置比對\n",
    "str4=\"\\W(.)\\1\\W\"\n",
    "print (str4)\n",
    "str4"
   ]
  },
  {
   "cell_type": "code",
   "execution_count": 6,
   "metadata": {},
   "outputs": [
    {
     "name": "stdout",
     "output_type": "stream",
     "text": [
      "\\W(.)\\1\\W\n"
     ]
    },
    {
     "data": {
      "text/plain": [
       "'\\\\W(.)\\\\1\\\\W'"
      ]
     },
     "execution_count": 6,
     "metadata": {},
     "output_type": "execute_result"
    }
   ],
   "source": [
    "# 有r，表示反斜線及1\n",
    "str4=r\"\\W(.)\\1\\W\"\n",
    "print (str4)\n",
    "str4"
   ]
  },
  {
   "cell_type": "markdown",
   "metadata": {},
   "source": [
    "Now you might be able to guess, what \"\\W(.)\\1\\W\" will match. "
   ]
  },
  {
   "cell_type": "code",
   "execution_count": 67,
   "metadata": {},
   "outputs": [
    {
     "name": "stdout",
     "output_type": "stream",
     "text": [
      "<_sre.SRE_Match object; span=(0, 4), match=' f\\x01 '>\n",
      "<_sre.SRE_Match object; span=(0, 4), match=' f\\x01 '>\n"
     ]
    }
   ],
   "source": [
    "str2=re.match(\"\\W(.)\\1\\W\", \" f\\x01 \")\n",
    "str2_1=re.match(\"\\W(.)\\1\\W\", \" f\\1 \")\n",
    "print (str2)\n",
    "print (str2_1)"
   ]
  },
  {
   "cell_type": "markdown",
   "metadata": {},
   "source": [
    "It matches with non-word + any one character  + \"\\x01\" + non=word."
   ]
  },
  {
   "cell_type": "markdown",
   "metadata": {},
   "source": [
    "** Conclusion -- always fist validate your regular expression, then test with Python**"
   ]
  },
  {
   "cell_type": "markdown",
   "metadata": {},
   "source": [
    "\\* is ??  <br>\n",
    "\\* is a wildcard similar with ? and +  <br>\n",
    "\\* matches 0+ <br>\n",
    "? matches 0-1 <br>\n",
    "\\+ matches 1+ <br>"
   ]
  },
  {
   "cell_type": "code",
   "execution_count": 102,
   "metadata": {},
   "outputs": [
    {
     "name": "stdout",
     "output_type": "stream",
     "text": [
      "['Please find all. ', '']\n"
     ]
    }
   ],
   "source": [
    "# find 0 or more\n",
    "str1 = re.findall(r'.*', 'Please find all.')\n",
    "print (str1)"
   ]
  },
  {
   "cell_type": "code",
   "execution_count": 69,
   "metadata": {},
   "outputs": [
    {
     "name": "stdout",
     "output_type": "stream",
     "text": [
      "['P', 'l', 'e', 'a', 's', 'e', ' ', 'f', 'i', 'n', 'd', ' ', 'a', 'l', 'l', '.', '']\n"
     ]
    }
   ],
   "source": [
    "# find a character each time\n",
    "str1 = re.findall(r'.?', 'Please find all.')\n",
    "print (str1)"
   ]
  },
  {
   "cell_type": "code",
   "execution_count": 70,
   "metadata": {},
   "outputs": [
    {
     "name": "stdout",
     "output_type": "stream",
     "text": [
      "['Please find all.']\n"
     ]
    }
   ],
   "source": [
    "# find one and more\n",
    "str1 = re.findall(r'.+', 'Please find all.')\n",
    "print (str1)"
   ]
  },
  {
   "cell_type": "code",
   "execution_count": 74,
   "metadata": {},
   "outputs": [
    {
     "name": "stdout",
     "output_type": "stream",
     "text": [
      "['l', 'll']\n"
     ]
    }
   ],
   "source": [
    "# find one or more \"l\"\n",
    "str1 = re.findall(r'l+', 'Please find all')\n",
    "print (str1)"
   ]
  },
  {
   "cell_type": "markdown",
   "metadata": {},
   "source": [
    "## 2. Homework in the reading material \"Introduction to Regular Expressions\"\n",
    "\n",
    "Refine the regular expression for date to distinguish months with 29/30/31 days.\n",
    "*Note assume all years are a leap year, which means every Feburary has 29 days."
   ]
  },
  {
   "cell_type": "code",
   "execution_count": 88,
   "metadata": {
    "collapsed": true
   },
   "outputs": [],
   "source": [
    "def date(pattern, m):\n",
    "    if re.match(pattern, m):\n",
    "        print (m + \" is a date\")\n",
    "    else:\n",
    "        print (m + \" is NOT a date\")"
   ]
  },
  {
   "cell_type": "code",
   "execution_count": 107,
   "metadata": {
    "collapsed": true
   },
   "outputs": [],
   "source": [
    "# ''' 這是註解 '''\n",
    "regex = r'''(?x)\n",
    "    (?:\n",
    "    # February (29 days every year)\n",
    "    ([12][0-9]|0?[0-9])[/-](0?2)\n",
    "      \n",
    "    # 30-day months\n",
    "    |(30|[12][0-9]|0?[0-9])[/-](0?[469]|11)\n",
    "      \n",
    "    # 31-day months\n",
    "    |(3[01]|[12][0-9]|0?[0-9])[/-](0?[13578]|1[02])\n",
    "      \n",
    "    ) \n",
    "    # Year\n",
    "    [/-]((?:[0-9]{2})?[0-9]{2}) \n",
    "    # if 4 digits就會從頭讀到尾，若只有2 digits就只讀後面的部分[0-9]{2}（前面[0-9]{2})?是optional）\n",
    "    \n",
    "'''"
   ]
  },
  {
   "cell_type": "code",
   "execution_count": 108,
   "metadata": {},
   "outputs": [
    {
     "name": "stdout",
     "output_type": "stream",
     "text": [
      "28/02/2019 is a date\n",
      "31/04/2019 is NOT a date\n",
      "29/05/2019 is a date\n",
      "31/06/2019 is NOT a date\n"
     ]
    }
   ],
   "source": [
    "#date(r\"((31[/-](0?[13578]|1[02]))|(30[/-](0?[469]|11))|(28[/-]02))[/-]((?:\\d{2})?\\d{2})\", \"28/02/2019\")\n",
    "date(regex, \"28/02/2019\")\n",
    "date(regex, \"31/04/2019\")\n",
    "date(regex, \"29/05/2019\")\n",
    "date(regex, \"31/06/2019\")"
   ]
  },
  {
   "cell_type": "markdown",
   "metadata": {},
   "source": [
    "## 3. Extract IPs, dates, and email address with regular expressions\n",
    "\n",
    "With following tasks we will use the mail box data ([mbox-short.txt](http://www.pythonlearn.com/code3/mbox-short.txt)) provided by the book [Python for Informatics: Exploring Information](http://www.pythonlearn.com/book.php#python-for-informatics). "
   ]
  },
  {
   "cell_type": "code",
   "execution_count": 109,
   "metadata": {
    "collapsed": true
   },
   "outputs": [],
   "source": [
    "with open('mbox-short.txt','r') as infile:\n",
    "    text = infile.read()"
   ]
  },
  {
   "cell_type": "markdown",
   "metadata": {},
   "source": [
    "### 3.1 Find IP addresses \n",
    "\n",
    "In this task we will need to \n",
    "1. find all IP addresses in the mbox-short dataset.\n",
    "2. print unique IP addresses \n",
    "\n",
    "We assume here that all of them are valid in the dataset. \n",
    "\n"
   ]
  },
  {
   "cell_type": "code",
   "execution_count": 119,
   "metadata": {
    "collapsed": true
   },
   "outputs": [],
   "source": [
    "def ip(pattern, i):\n",
    "    if re.match(pattern, i):\n",
    "        print (i + \" is a valid IP address\")\n",
    "    else:\n",
    "        print (i + \" is Not a valid IP address\")"
   ]
  },
  {
   "cell_type": "code",
   "execution_count": 129,
   "metadata": {
    "collapsed": true
   },
   "outputs": [],
   "source": [
    "ip_address = r\"\\b(?:\\d{1,3}\\.){3}\\d{1,3}$\\b\""
   ]
  },
  {
   "cell_type": "code",
   "execution_count": 134,
   "metadata": {},
   "outputs": [
    {
     "name": "stdout",
     "output_type": "stream",
     "text": [
      "2222.4.56.5 is Not a valid IP address\n",
      "255. 255.268.7 is Not a valid IP address\n",
      "0.0.0000.0 is Not a valid IP address\n",
      "120.333.2.343 is a valid IP address\n"
     ]
    }
   ],
   "source": [
    "ip(ip_address, \"2222.4.56.5\")\n",
    "ip(ip_address, \"255. 255.268.7\")\n",
    "ip(ip_address, \"0.0.0000.0\")\n",
    "ip(ip_address, \"120.333.2.343\") # $表示結尾一定要數字"
   ]
  },
  {
   "cell_type": "markdown",
   "metadata": {
    "collapsed": true
   },
   "source": [
    "### 3.2  Extract All date time \n",
    "\n",
    "\n",
    "In the next task, we need to extract all date time from the file. We trust that all date time are valid for now. \n"
   ]
  },
  {
   "cell_type": "code",
   "execution_count": null,
   "metadata": {
    "collapsed": true
   },
   "outputs": [],
   "source": []
  },
  {
   "cell_type": "markdown",
   "metadata": {},
   "source": [
    "### 3.3 Extract author's email address\n",
    "\n",
    "\n",
    "There are many email addresses included in the file. We would like to \n",
    "\n",
    "1. extract all email addresses (the format is normally: \"Author: stephen.marquard@uct.ac.za\" )\n",
    "2. extract email address after after Author\n",
    "\n",
    "Have a try now: "
   ]
  },
  {
   "cell_type": "markdown",
   "metadata": {},
   "source": [
    "```python\n",
    "r\"[a-zA-Z0-9_.+-]+@[a-zA-Z0-9-]+\\.[a-zA-Z0-9-.]+\"\n",
    "```\n",
    "which was copied and pasted from http://emailregex.com/\n",
    "\n",
    "Does it work in the task?\n",
    "\n",
    "### Nope但我還不知道錯在哪裡"
   ]
  },
  {
   "cell_type": "code",
   "execution_count": 135,
   "metadata": {
    "collapsed": true
   },
   "outputs": [],
   "source": [
    "def email(pattern, e):\n",
    "    if re.match(pattern, e):\n",
    "        print(\"This is a valid email.\")\n",
    "    else:\n",
    "        print(\"This is NOT a valid email.\")"
   ]
  },
  {
   "cell_type": "code",
   "execution_count": 178,
   "metadata": {
    "collapsed": true
   },
   "outputs": [],
   "source": [
    "# \\b文字邊界（表示要在文字的最邊邊）\n",
    "# \\bage\\b -> \"the age is\" -> age符合，因為a前面是non-word，且e後面也是non-word\n",
    "# \\bage\\b -> \"language\" -> 不符合，因為age夾在word與non-word之中\n",
    "email_pattern1 = r\"\\b[a-zA-Z0-9_\\.+-]+@[a-zA-Z0-9-]+\\.[a-zA-Z0-9-]\\b\"\n",
    "email_pattern2 = r\"\\b[a-zA-Z0-9._%+-]+@[a-zA-Z0-9.-]+\\.[a-zA-Z]{2,}\\b\""
   ]
  },
  {
   "cell_type": "code",
   "execution_count": 179,
   "metadata": {
    "scrolled": false
   },
   "outputs": [
    {
     "name": "stdout",
     "output_type": "stream",
     "text": [
      "This is NOT a valid email.\n",
      "This is a valid email.\n"
     ]
    }
   ],
   "source": [
    "email(email_pattern1, \"stephen.marquard@uct.ac.za\")\n",
    "email(email_pattern2, \"stephen.marquard@uct.ac.za\")"
   ]
  },
  {
   "cell_type": "markdown",
   "metadata": {
    "collapsed": true
   },
   "source": [
    "## 4. Home work :\n",
    "\n",
    "Watch the Software Carpentry lecture on regular expressions, if you need more help.\n",
    "\n",
    "https://www.youtube.com/playlist?list=PL7C1EB31127AB8A0B\n",
    "\n",
    "or you can look at the video lecture at Lynda.com \n",
    "\n",
    "https://wwwlyndacom.ezproxy.lib.monash.edu.au/Regular-Expressions-tutorials/Welcome/85870/93904-4.html?autoplay=true\n",
    "\n",
    "In order to access the Lynda, you need to setup your account according to \n",
    "\n",
    "http://resources.lib.monash.edu.au/eresources/lyndacom.html"
   ]
  },
  {
   "cell_type": "code",
   "execution_count": 170,
   "metadata": {
    "collapsed": true
   },
   "outputs": [],
   "source": [
    "match = re.search('(....)-(..)-(..)', 'Baker 1\\t2019-11-02\\t1223.0')"
   ]
  },
  {
   "cell_type": "code",
   "execution_count": 172,
   "metadata": {},
   "outputs": [
    {
     "name": "stdout",
     "output_type": "stream",
     "text": [
      "2019-11-02\n",
      "2019 11 02\n"
     ]
    }
   ],
   "source": [
    "print(match.group(0)) # print all the text\n",
    "print(match.group(1), match.group(2), match.group(3)) # print the specific one"
   ]
  },
  {
   "cell_type": "code",
   "execution_count": null,
   "metadata": {
    "collapsed": true
   },
   "outputs": [],
   "source": []
  }
 ],
 "metadata": {
  "anaconda-cloud": {},
  "kernelspec": {
   "display_name": "Python 3",
   "language": "python",
   "name": "python3"
  },
  "language_info": {
   "codemirror_mode": {
    "name": "ipython",
    "version": 3
   },
   "file_extension": ".py",
   "mimetype": "text/x-python",
   "name": "python",
   "nbconvert_exporter": "python",
   "pygments_lexer": "ipython3",
   "version": "3.6.3"
  }
 },
 "nbformat": 4,
 "nbformat_minor": 1
}
