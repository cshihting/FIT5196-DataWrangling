{
 "cells": [
  {
   "cell_type": "code",
   "execution_count": null,
   "metadata": {
    "collapsed": true
   },
   "outputs": [],
   "source": [
    "# import xml.etree.ElementTree as ET\n",
    "# tree = ET.parse('/Users/eileen/Desktop/u/5196_data_wrangling/Assignments/A3/29286875/real_state.xml')\n",
    "# root = tree.getroot()\n",
    "# print root\n",
    "# dic={}\n",
    "# for i in root.iter('TeamData'):\n",
    "#     dic[i.attrib['Ref']]=[j.text for j in i]\n",
    "# print dic"
   ]
  },
  {
   "cell_type": "code",
   "execution_count": 1,
   "metadata": {
    "scrolled": true
   },
   "outputs": [
    {
     "name": "stderr",
     "output_type": "stream",
     "text": [
      "/anaconda3/lib/python3.6/importlib/_bootstrap.py:219: RuntimeWarning: numpy.dtype size changed, may indicate binary incompatibility. Expected 96, got 88\n",
      "  return f(*args, **kwds)\n",
      "/anaconda3/lib/python3.6/importlib/_bootstrap.py:219: RuntimeWarning: numpy.dtype size changed, may indicate binary incompatibility. Expected 96, got 88\n",
      "  return f(*args, **kwds)\n"
     ]
    }
   ],
   "source": [
    "# from bs4 import BeautifulSoup\n",
    "# import re\n",
    "import pandas as pd\n",
    "import xml.etree.ElementTree as ET\n",
    "tree = ET.parse('/Users/eileen/Desktop/u/5196_data_wrangling/Assignments/A3/29286875/real_state.xml')\n",
    "root = tree.getroot()"
   ]
  },
  {
   "cell_type": "code",
   "execution_count": 17,
   "metadata": {},
   "outputs": [
    {
     "name": "stdout",
     "output_type": "stream",
     "text": [
      "Tag >> bathrooms ;Attribute >> {'type': 'dict'}\n",
      "Tag >> price ;Attribute >> {'type': 'dict'}\n",
      "Tag >> bedrooms ;Attribute >> {'type': 'dict'}\n",
      "Tag >> parking_space ;Attribute >> {'type': 'dict'}\n",
      "Tag >> year ;Attribute >> {'type': 'dict'}\n",
      "Tag >> lat ;Attribute >> {'type': 'dict'}\n",
      "Tag >> lng ;Attribute >> {'type': 'dict'}\n",
      "Tag >> property_type ;Attribute >> {'type': 'dict'}\n",
      "Tag >> addr_street ;Attribute >> {'type': 'dict'}\n",
      "Tag >> property_id ;Attribute >> {'type': 'dict'}\n"
     ]
    }
   ],
   "source": [
    "for each in root:\n",
    "    print(\"Tag >>\", each.tag, \";Attribute >>\", each.attrib)"
   ]
  },
  {
   "cell_type": "code",
   "execution_count": 44,
   "metadata": {},
   "outputs": [],
   "source": [
    "dict = {}\n",
    "column_list = []\n",
    "for each in root:\n",
    "    for tags in root.findall(each.tag):\n",
    "#         print(tags)\n",
    "        column_list.append(each.tag)\n",
    "        for each_id in tags:\n",
    "#             print(each_id)\n",
    "            if each_id.tag in dict:\n",
    "                value = dict[each_id.tag]\n",
    "                value.append(each_id.text)\n",
    "            else:\n",
    "                dict[each_id.tag] = [each_id.text] # key:value"
   ]
  },
  {
   "cell_type": "code",
   "execution_count": 39,
   "metadata": {},
   "outputs": [],
   "source": [
    "# value"
   ]
  },
  {
   "cell_type": "code",
   "execution_count": 41,
   "metadata": {},
   "outputs": [],
   "source": [
    "# dict"
   ]
  },
  {
   "cell_type": "code",
   "execution_count": 52,
   "metadata": {},
   "outputs": [
    {
     "data": {
      "text/html": [
       "<div>\n",
       "<style>\n",
       "    .dataframe thead tr:only-child th {\n",
       "        text-align: right;\n",
       "    }\n",
       "\n",
       "    .dataframe thead th {\n",
       "        text-align: left;\n",
       "    }\n",
       "\n",
       "    .dataframe tbody tr th {\n",
       "        vertical-align: top;\n",
       "    }\n",
       "</style>\n",
       "<table border=\"1\" class=\"dataframe\">\n",
       "  <thead>\n",
       "    <tr style=\"text-align: right;\">\n",
       "      <th></th>\n",
       "      <th>property_id</th>\n",
       "      <th>lat</th>\n",
       "      <th>lng</th>\n",
       "      <th>addr_street</th>\n",
       "      <th>price</th>\n",
       "      <th>property_type</th>\n",
       "      <th>year</th>\n",
       "      <th>bedrooms</th>\n",
       "      <th>bathrooms</th>\n",
       "      <th>parking_space</th>\n",
       "    </tr>\n",
       "  </thead>\n",
       "  <tbody>\n",
       "    <tr>\n",
       "      <th>n59722</th>\n",
       "      <td>59722.0</td>\n",
       "      <td>-37.806008</td>\n",
       "      <td>145.190223</td>\n",
       "      <td>256 Mitcham Road</td>\n",
       "      <td>9720000.0</td>\n",
       "      <td>house</td>\n",
       "      <td>2015.0</td>\n",
       "      <td>3.0</td>\n",
       "      <td>2.0</td>\n",
       "      <td>1.0</td>\n",
       "    </tr>\n",
       "    <tr>\n",
       "      <th>n36584</th>\n",
       "      <td>36584.0</td>\n",
       "      <td>-37.6644516</td>\n",
       "      <td>145.0268707</td>\n",
       "      <td>82 Curtin Avenue</td>\n",
       "      <td>2880000.0</td>\n",
       "      <td>house</td>\n",
       "      <td>2008.0</td>\n",
       "      <td>3.0</td>\n",
       "      <td>1.0</td>\n",
       "      <td>1.0</td>\n",
       "    </tr>\n",
       "    <tr>\n",
       "      <th>n61457</th>\n",
       "      <td>61457.0</td>\n",
       "      <td>-37.803953</td>\n",
       "      <td>145.231745</td>\n",
       "      <td>1a Hobart Street</td>\n",
       "      <td>10480000.0</td>\n",
       "      <td>house</td>\n",
       "      <td>2011.0</td>\n",
       "      <td>4.0</td>\n",
       "      <td>2.0</td>\n",
       "      <td>2.0</td>\n",
       "    </tr>\n",
       "    <tr>\n",
       "      <th>n27884</th>\n",
       "      <td>27884.0</td>\n",
       "      <td>-37.59357452</td>\n",
       "      <td>144.9277496</td>\n",
       "      <td>9 Bank Street</td>\n",
       "      <td>2808000.0</td>\n",
       "      <td>house</td>\n",
       "      <td>2009.0</td>\n",
       "      <td>3.0</td>\n",
       "      <td>2.0</td>\n",
       "      <td>3.0</td>\n",
       "    </tr>\n",
       "    <tr>\n",
       "      <th>n9079</th>\n",
       "      <td>9079.0</td>\n",
       "      <td>-37.888038</td>\n",
       "      <td>144.758115</td>\n",
       "      <td>43 William McPherson Crescent</td>\n",
       "      <td>4785000.0</td>\n",
       "      <td>house</td>\n",
       "      <td>2013.0</td>\n",
       "      <td>3.0</td>\n",
       "      <td>2.0</td>\n",
       "      <td>2.0</td>\n",
       "    </tr>\n",
       "  </tbody>\n",
       "</table>\n",
       "</div>"
      ],
      "text/plain": [
       "       property_id           lat          lng                    addr_street  \\\n",
       "n59722     59722.0    -37.806008   145.190223               256 Mitcham Road   \n",
       "n36584     36584.0   -37.6644516  145.0268707               82 Curtin Avenue   \n",
       "n61457     61457.0    -37.803953   145.231745               1a Hobart Street   \n",
       "n27884     27884.0  -37.59357452  144.9277496                  9 Bank Street   \n",
       "n9079       9079.0    -37.888038   144.758115  43 William McPherson Crescent   \n",
       "\n",
       "             price property_type    year bedrooms bathrooms parking_space  \n",
       "n59722   9720000.0         house  2015.0      3.0       2.0           1.0  \n",
       "n36584   2880000.0         house  2008.0      3.0       1.0           1.0  \n",
       "n61457  10480000.0         house  2011.0      4.0       2.0           2.0  \n",
       "n27884   2808000.0         house  2009.0      3.0       2.0           3.0  \n",
       "n9079    4785000.0         house  2013.0      3.0       2.0           2.0  "
      ]
     },
     "execution_count": 52,
     "metadata": {},
     "output_type": "execute_result"
    }
   ],
   "source": [
    "# convert dictionary to dataframe (orient means the \"orientation\" of the data)\n",
    "df = pd.DataFrame.from_dict(dict, orient='index')\n",
    "\n",
    "# rename the columns\n",
    "df.columns = column_list\n",
    "\n",
    "# reorder the columns\n",
    "df = df[['property_id', 'lat', 'lng', 'addr_street', 'price', 'property_type', 'year', 'bedrooms', 'bathrooms', 'parking_space']]\n",
    "\n",
    "# display the dataframe\n",
    "df.head()"
   ]
  },
  {
   "cell_type": "code",
   "execution_count": 17,
   "metadata": {
    "collapsed": true
   },
   "outputs": [],
   "source": [
    "# xml = '/Users/eileen/Desktop/u/5196_data_wrangling/Assignments/A3/29286875/real_state.xml'"
   ]
  },
  {
   "cell_type": "code",
   "execution_count": 68,
   "metadata": {
    "collapsed": true
   },
   "outputs": [],
   "source": [
    "# bsobj = BeautifulSoup(xml, \"lxml\")\n",
    "# for link in bsobj.find(\"div\", {\"id\": \"bodyContent\"}).findAll(\"n\", href=re.compile(\"^(/wiki/)((?!:).)*$\")):\n",
    "#     if 'href' in link.attrs:\n",
    "#         print(link.attrs['href'])"
   ]
  },
  {
   "cell_type": "code",
   "execution_count": 70,
   "metadata": {},
   "outputs": [],
   "source": [
    "# # 只抓一個 id 的值\n",
    "# infile = open(xml, 'r')\n",
    "# soup = BeautifulSoup(infile, 'xml')\n",
    "# property_id = soup.find_all(re.compile('^n[0-9]*'))\n",
    "# print(property_id)"
   ]
  },
  {
   "cell_type": "code",
   "execution_count": 71,
   "metadata": {
    "scrolled": true
   },
   "outputs": [],
   "source": [
    "# infile = open(xml, 'r')\n",
    "# # contents = infile.read()\n",
    "# # print(contents)\n",
    "# soup = BeautifulSoup(infile, 'xml')\n",
    "# property_id = soup.find_all('property_id')\n",
    "# print(property_id)\n",
    "# # type(property_id)\n",
    "# # print(type(infile))\n",
    "# # print(type(property_id))\n",
    "\n",
    "# for each in property_id:\n",
    "# #     print(each.get_text().strip())\n",
    "#     print(each)\n",
    "# #     print(each.text.strip())\n",
    "# #     print(type(each.get_text()))\n",
    "# #     print(each.get_text())"
   ]
  },
  {
   "cell_type": "code",
   "execution_count": 9,
   "metadata": {
    "collapsed": true
   },
   "outputs": [],
   "source": [
    "# def xml_to_df(xml_doc, target_name):\n",
    "#     file = open(xml_doc, 'r')\n",
    "#     contents = infile.read()\n",
    "#     soup = BeautifulSoup(contents, 'xml')\n",
    "#     target = soup.find_all(target_name)\n",
    "#     a_list = []\n",
    "#     for each in target:\n",
    "#         a_list.append(each.get_text())\n",
    "#     return a_list"
   ]
  },
  {
   "cell_type": "code",
   "execution_count": 72,
   "metadata": {},
   "outputs": [],
   "source": [
    "# bathrooms_list = xml_to_df(xml, 'bathrooms')\n",
    "# bathrooms_list"
   ]
  },
  {
   "cell_type": "code",
   "execution_count": null,
   "metadata": {
    "collapsed": true
   },
   "outputs": [],
   "source": []
  }
 ],
 "metadata": {
  "kernelspec": {
   "display_name": "Python 3",
   "language": "python",
   "name": "python3"
  },
  "language_info": {
   "codemirror_mode": {
    "name": "ipython",
    "version": 3
   },
   "file_extension": ".py",
   "mimetype": "text/x-python",
   "name": "python",
   "nbconvert_exporter": "python",
   "pygments_lexer": "ipython3",
   "version": "3.6.3"
  }
 },
 "nbformat": 4,
 "nbformat_minor": 2
}
