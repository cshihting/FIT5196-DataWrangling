{
 "cells": [
  {
   "cell_type": "markdown",
   "metadata": {},
   "source": [
    "### 再第一個彩色區域圖之後"
   ]
  },
  {
   "cell_type": "code",
   "execution_count": null,
   "metadata": {
    "collapsed": true
   },
   "outputs": [],
   "source": [
    "# find 15 outliers\n",
    "df.boxplot(column=['origin_latitude'], by='origin_region', rot=90)\n",
    "# find 16 outliers\n",
    "# df.boxplot(column=['origin_longitude'], by='origin_region', rot=90)"
   ]
  },
  {
   "cell_type": "code",
   "execution_count": null,
   "metadata": {
    "collapsed": true
   },
   "outputs": [],
   "source": [
    "# find 16 outliers\n",
    "df.boxplot(column=['origin_longitude'], by='origin_region', rot=90)"
   ]
  },
  {
   "cell_type": "code",
   "execution_count": null,
   "metadata": {
    "collapsed": true
   },
   "outputs": [],
   "source": [
    "lat_max_list = [] # a list to store the max of latitude\n",
    "lat_min_list = [] # a list to store the min of latitude\n",
    "long_max_list = [] # a list to store the max of longitude\n",
    "long_min_list = [] # a list to store the min of longitude\n",
    "wrong_row = [] # a list to store the index of the row with the wrong origin region\n",
    "for number in range(1, len(df['origin_region'].unique())): # compare each region\n",
    "    region = df.loc[df['origin_region'] == number] # get region one by one\n",
    "#     region = region.dropna(subset=['origin_region']) # drop rows where have NaN in origin_region\n",
    "    region = region.reset_index() # reset the index\n",
    "\n",
    "    lat_max = region['origin_latitude'].max() # the max of the latitude in the current region\n",
    "    lat_min = region['origin_latitude'].min() # the min of the latitude in the current region\n",
    "    long_max = region['origin_longitude'].max() # the max of the longitude in the current region\n",
    "    long_min = region['origin_longitude'].min() # the min of the longitude in the current region\n",
    "    \n",
    "    lat_max_list.append(lat_max)\n",
    "    lat_min_list.append(lat_min)\n",
    "    long_max_list.append(long_max)\n",
    "    long_min_list.append(long_min)    \n",
    "    \n",
    "    # find 15 outliers\n",
    "    region.boxplot(column=['origin_latitude'], by='origin_region', rot=90)\n",
    "    # find 16 outliers\n",
    "    # region.boxplot(column=['origin_longitude'], by='origin_region', rot=90)\n",
    "    \n",
    "    for row in range(len(region)):\n",
    "        lat = region.loc[row,'origin_latitude']\n",
    "        long = region.loc[row,'origin_longitude']\n",
    "        if not (lat_min<lat<lat_max) and not (long_min<long<long_max):\n",
    "            original_index = region.loc[row,'index']\n",
    "            wrong_row.append(original_index)\n",
    "            print(\"The row\", original_index, \"in the region\", number, \"needs to be revised.\")\n",
    "\n",
    "# print(wrong_row)\n",
    "for row in wrong_row:\n",
    "    wrong_lat = df.loc[row,'origin_latitude']\n",
    "    wrong_long = df.loc[row,'origin_longitude']\n",
    "    for each in range(len(lat_max_list)):\n",
    "        if (lat_min_list[each]<=wrong_lat<=lat_max_list[each]) and (long_min_list[each]<=wrong_long<=long_max_list[each]):\n",
    "            df.loc[row,'origin_region'] = each+1 "
   ]
  },
  {
   "cell_type": "code",
   "execution_count": null,
   "metadata": {
    "collapsed": true
   },
   "outputs": [],
   "source": [
    "# find 15 outliers\n",
    "df.boxplot(column=['origin_latitude'], by='origin_region', rot=90)\n",
    "# find 16 outliers\n",
    "# df.boxplot(column=['origin_longitude'], by='origin_region', rot=90)"
   ]
  },
  {
   "cell_type": "code",
   "execution_count": null,
   "metadata": {
    "collapsed": true
   },
   "outputs": [],
   "source": [
    "for each in range(1, 52):\n",
    "    region_each = df[df['origin_region'] == each]\n",
    "    x = region_each['origin_longitude']\n",
    "    y = region_each['origin_latitude']\n",
    "    plt.scatter(x, y, c=colors[each-1], s=25, alpha=0.8, label=each) # marker='o',\n",
    "\n",
    "x_null = null_region_df['origin_longitude']\n",
    "y_null = null_region_df['origin_latitude']\n",
    "plt.scatter(x_null, y_null, marker='v', s=40, c='b', label='NaN')\n",
    "plt.xlabel('Origin Longitude')\n",
    "plt.ylabel('Origin Latitude')\n",
    "plt.title('Latitude & Longitude of Origin')\n",
    "\n",
    "plt.legend(loc='lower right', bbox_to_anchor=(1.8,0.04), ncol=4)\n",
    "plt.show()"
   ]
  },
  {
   "cell_type": "code",
   "execution_count": null,
   "metadata": {
    "collapsed": true
   },
   "outputs": [],
   "source": [
    "# # 影該先移除outlier，才有辦法取得唯一值\n",
    "# nan_df = df.loc[df['origin_region'].isnull()].reset_index() # reset index\n",
    "# nan_df.index = np.arange(1, len(nan_df)+1) # set index from 1\n",
    "# for each in range(1, len(nan_df)+1): # compare each latitude & longitude which region is NaN\n",
    "#     nan_lat = nan_df.loc[each]['origin_latitude']\n",
    "#     nan_long = nan_df.loc[each]['origin_longitude']\n",
    "\n",
    "#     print(nan_lat)\n",
    "#     print(nan_long)\n",
    "    \n",
    "#     lat_max_list = [] # a list to store the max of latitude\n",
    "#     lat_min_list = [] # a list to store the min of latitude\n",
    "#     long_max_list = [] # a list to store the max of longitude\n",
    "#     long_min_list = [] # a list to store the min of longitude\n",
    "#     for number in range(1, len(df['origin_region'].unique())): # compare each region\n",
    "#         region = df.loc[df['origin_region'] == number] # get region one by one\n",
    "\n",
    "#         lat_max = region['origin_latitude'].max() # the max of the latitude in the current region\n",
    "#         lat_min = region['origin_latitude'].min() # the min of the latitude in the current region\n",
    "#         long_max = region['origin_longitude'].max() # the max of the longitude in the current region\n",
    "#         long_min = region['origin_longitude'].min() # the min of the longitude in the current region\n",
    "        \n",
    "#         print(number, lat_max)\n",
    "        \n",
    "#         lat_max_list.append(lat_max)\n",
    "#         lat_min_list.append(lat_min)\n",
    "#         long_max_list.append(long_max)\n",
    "#         long_min_list.append(long_min)\n",
    "        \n",
    "#     print(\"\\n\", len(lat_max_list), \"\\n\")\n",
    "    \n",
    "#     for region_index in range(len(lat_max_list)):\n",
    "#         if (lat_min_list[region_index]<=nan_lat<=lat_max_list[region_index]) and (long_min_list[region_index]<=nan_long<=long_max_list[region_index]):\n",
    "#             print(region_index)"
   ]
  },
  {
   "cell_type": "code",
   "execution_count": null,
   "metadata": {
    "collapsed": true
   },
   "outputs": [],
   "source": [
    "# #     \"region{0}\".format(number) = df.loc[df['origin_region'] == number]\n",
    "# nan_df = df.loc[df['origin_region'].isnull()].reset_index() # reset index\n",
    "# nan_df.index = np.arange(1, len(nan_df)+1) # set index from 1\n",
    "# for each in range(1, len(nan_df)+1): # compare each latitude & longitude which region is NaN\n",
    "#     nan_lat = nan_df.loc[each]['origin_latitude']\n",
    "#     nan_long = nan_df.loc[each]['origin_longitude']\n",
    "\n",
    "#     lat_gap_list = [] # a list to store the gap of nan_lat & lat_mean\n",
    "#     long_gap_list = [] # a list to store the gap of nan_long & long_mean\n",
    "#     for number in range(1, len(df['origin_region'].unique())): # compare each region\n",
    "#         region = df.loc[df['origin_region'] == number] # get region one by one\n",
    "\n",
    "#         lat_mean = region['origin_latitude'].mean() # the mean of the current latitude\n",
    "#         long_mean = region['origin_longitude'].mean() # the mean of the current longitude\n",
    "        \n",
    "#         lat_gap_list.append(abs(nan_lat-lat_mean)) # add each gap into lat_gap_list\n",
    "#         long_gap_list.append(abs(nan_long-long_mean)) # add each gap into long_gap_list\n",
    "    \n",
    "# #     print(len(lat_gap_list)+1)\n",
    "#     for min_lat_index in range(len(lat_gap_list)): # get the index of the min latitude gap\n",
    "#         if lat_gap_list[min_lat_index] == min(lat_gap_list):\n",
    "#             print(min_lat_index)\n",
    "    \n",
    "#     for min_long_index in range(len(long_gap_list)): # get the index of the min longitude gap\n",
    "#         if long_gap_list[min_long_index] == min(long_gap_list):\n",
    "#             print(min_long_index)\n",
    "    \n",
    "    \n",
    "    \n",
    "# # #     print(lat_gap_list)\n",
    "#     print(min(lat_gap_list))\n",
    "#     print(min(long_gap_list))\n",
    "    \n",
    "# #     nan_df = df.loc[df['origin_region'].isnull()].reset_index() # reset index\n",
    "# #     nan_df.index = np.arange(1, len(nan_df)+1) # set index from 1\n",
    "    \n",
    "# #     for each in range(1, len(nan_df)+1): # compare each latitude & longitude which region is NaN\n",
    "# #         nan_lat = nan_df.loc[each]['origin_latitude']\n",
    "# #         nan_long = nan_df.loc[each]['origin_longitude']\n",
    "# #         if (nan_lat-lat_mean)\n",
    "        \n",
    "        \n",
    "# #     df.loc[df['origin_region'].isnull()].reset_index()"
   ]
  },
  {
   "cell_type": "code",
   "execution_count": null,
   "metadata": {
    "collapsed": true
   },
   "outputs": [],
   "source": [
    "# nan_df = df.loc[df['origin_region'].isnull()].reset_index() # reset index\n",
    "# nan_df.index = np.arange(1, len(nan_df)+1) # set index from 1\n",
    "# for each in range(1, len(nan_df)+1):\n",
    "#     print(nan_df.loc[each]['origin_latitude'])\n",
    "#     print(each)"
   ]
  },
  {
   "cell_type": "code",
   "execution_count": null,
   "metadata": {
    "collapsed": true
   },
   "outputs": [],
   "source": [
    "# nan_df"
   ]
  },
  {
   "cell_type": "code",
   "execution_count": null,
   "metadata": {
    "collapsed": true
   },
   "outputs": [],
   "source": [
    "# r1_lat_mean = region1_df['origin_latitude'].mean()\n",
    "# r1_long_mean = region1_df['origin_longitude'].mean()"
   ]
  },
  {
   "cell_type": "code",
   "execution_count": null,
   "metadata": {
    "collapsed": true
   },
   "outputs": [],
   "source": [
    "# print(\"The mean of latitude of region 1:\", r1_lat_mean)\n",
    "# print(\"The mean of longitude of region 1:\", r1_long_mean)"
   ]
  }
 ],
 "metadata": {
  "kernelspec": {
   "display_name": "Python 3",
   "language": "python",
   "name": "python3"
  },
  "language_info": {
   "codemirror_mode": {
    "name": "ipython",
    "version": 3
   },
   "file_extension": ".py",
   "mimetype": "text/x-python",
   "name": "python",
   "nbconvert_exporter": "python",
   "pygments_lexer": "ipython3",
   "version": "3.6.3"
  }
 },
 "nbformat": 4,
 "nbformat_minor": 2
}
