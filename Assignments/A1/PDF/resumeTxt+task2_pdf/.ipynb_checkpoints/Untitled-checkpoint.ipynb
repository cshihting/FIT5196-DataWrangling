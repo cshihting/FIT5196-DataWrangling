{
 "cells": [
  {
   "cell_type": "code",
   "execution_count": null,
   "metadata": {
    "collapsed": true
   },
   "outputs": [],
   "source": []
  },
  {
   "cell_type": "code",
   "execution_count": null,
   "metadata": {
    "collapsed": true
   },
   "outputs": [],
   "source": []
  },
  {
   "cell_type": "code",
   "execution_count": null,
   "metadata": {
    "collapsed": true
   },
   "outputs": [],
   "source": []
  },
  {
   "cell_type": "code",
   "execution_count": null,
   "metadata": {
    "collapsed": true
   },
   "outputs": [],
   "source": []
  },
  {
   "cell_type": "code",
   "execution_count": null,
   "metadata": {
    "collapsed": true
   },
   "outputs": [],
   "source": [
    "import sys\n",
    "\n",
    "filename = sys.argv[1]\n",
    "fp = open('resume_(1).txt')\n",
    "data = fp.read()\n",
    "words = data.split()\n",
    "fp.close()\n",
    "\n",
    "unwanted_chars = \".,-_ (and so on)\"\n",
    "wordfreq = {}\n",
    "for raw_word in words:\n",
    "    word = raw_word.strip(unwanted_chars)\n",
    "    if word not in wordfreq:\n",
    "        wordfreq[word] = 0 \n",
    "    wordfreq[word] += 1"
   ]
  },
  {
   "cell_type": "code",
   "execution_count": 1,
   "metadata": {
    "collapsed": true
   },
   "outputs": [],
   "source": [
    "import sys\n",
    "\n",
    "filename = sys.argv[1]\n",
    "fp = open('resume_(1).txt')\n",
    "data = fp.read()\n",
    "words = data.split()\n",
    "fp.close()\n",
    "\n",
    "unwanted_chars = \".,-_ (and so on)\"\n",
    "wordfreq = {}\n",
    "for raw_word in words:\n",
    "    word = raw_word.strip(unwanted_chars)\n",
    "    if word not in wordfreq:\n",
    "        wordfreq[word] = 0 \n",
    "    wordfreq[word] += 1"
   ]
  },
  {
   "cell_type": "code",
   "execution_count": 53,
   "metadata": {},
   "outputs": [
    {
     "data": {
      "text/plain": [
       "{'': 60,\n",
       " '$': 3,\n",
       " '&': 13,\n",
       " '+971': 3,\n",
       " '/': 24,\n",
       " '/Chartere': 1,\n",
       " '0800': 3,\n",
       " '1': 4,\n",
       " '1-HNSP': 1,\n",
       " '1.1M': 1,\n",
       " '100': 1,\n",
       " '12.5%': 1,\n",
       " '129': 1,\n",
       " '134821': 1,\n",
       " '14': 4,\n",
       " '15M': 1,\n",
       " '15th': 1,\n",
       " '18%': 2,\n",
       " '1981': 1,\n",
       " '1st': 3,\n",
       " '2': 1,\n",
       " '2.8M': 1,\n",
       " '2007': 2,\n",
       " '22.5%': 1,\n",
       " '220M': 1,\n",
       " '23r': 1,\n",
       " '246': 3,\n",
       " '248': 1,\n",
       " '250M': 1,\n",
       " '28th': 2,\n",
       " '3': 6,\n",
       " '3.5%': 1,\n",
       " '305': 1,\n",
       " '30th': 2,\n",
       " '31st': 1,\n",
       " '340': 1,\n",
       " '3⅓': 2,\n",
       " '4': 1,\n",
       " '4.5%': 1,\n",
       " '45%': 2,\n",
       " '48%': 1,\n",
       " '4th': 1,\n",
       " '4¼': 2,\n",
       " '50': 3,\n",
       " '52%': 2,\n",
       " '6%': 1,\n",
       " '6.37M': 1,\n",
       " '61%': 1,\n",
       " '63%': 1,\n",
       " '654': 1,\n",
       " '6th': 1,\n",
       " '7%': 1,\n",
       " '7.6%': 1,\n",
       " '70%': 3,\n",
       " '73%': 1,\n",
       " '8': 2,\n",
       " '8%': 1,\n",
       " '85M': 1,\n",
       " '8th': 1,\n",
       " '9': 1,\n",
       " '9582697': 1,\n",
       " ':': 11,\n",
       " 'A': 2,\n",
       " 'ACADEMIC': 1,\n",
       " 'ACI': 1,\n",
       " 'AMD': 1,\n",
       " 'ATMI': 1,\n",
       " 'AUM': 2,\n",
       " 'AVERAGE': 1,\n",
       " 'AVP': 2,\n",
       " 'Academic': 1,\n",
       " 'Accountant': 6,\n",
       " 'Accounting': 2,\n",
       " 'Achievements:': 3,\n",
       " 'Advisor': 1,\n",
       " 'Ahli': 3,\n",
       " 'Al': 1,\n",
       " 'Analysi': 1,\n",
       " 'Applie': 2,\n",
       " 'Apr’07': 2,\n",
       " 'Asset': 3,\n",
       " 'Assistant': 4,\n",
       " 'Assoc': 1,\n",
       " 'Associate': 2,\n",
       " 'Assurance': 2,\n",
       " 'Aust': 2,\n",
       " 'Australi': 1,\n",
       " 'Authority': 1,\n",
       " 'Average': 1,\n",
       " 'B': 2,\n",
       " 'BSc': 3,\n",
       " 'Bank': 9,\n",
       " 'Banking': 1,\n",
       " 'Best': 1,\n",
       " 'Birth': 1,\n",
       " 'Brooke': 1,\n",
       " 'Built': 1,\n",
       " 'C': 5,\n",
       " 'CBFS': 1,\n",
       " 'CEO': 1,\n",
       " 'CEO;': 1,\n",
       " 'CGMA': 3,\n",
       " 'CISI': 3,\n",
       " 'CPA': 3,\n",
       " 'CREDENTIALS': 1,\n",
       " 'CSE': 1,\n",
       " 'Capital': 3,\n",
       " 'Cement': 2,\n",
       " 'Central': 2,\n",
       " 'Certificate': 1,\n",
       " 'Certifications:': 1,\n",
       " 'Certifie': 6,\n",
       " 'Chartere': 5,\n",
       " 'Chief': 3,\n",
       " 'Cl': 2,\n",
       " 'Colomb': 1,\n",
       " 'Commissi': 2,\n",
       " 'Committee': 1,\n",
       " 'Companie': 1,\n",
       " 'Company': 1,\n",
       " 'Corporate': 1,\n",
       " 'Corporati': 4,\n",
       " 'Credential': 1,\n",
       " 'DETAILS': 1,\n",
       " 'DPM': 2,\n",
       " 'Date': 1,\n",
       " 'Dealer': 1,\n",
       " 'Dec': 1,\n",
       " 'Degree': 1,\n",
       " 'Derivative': 1,\n",
       " 'Development': 1,\n",
       " 'Development:': 1,\n",
       " 'Discretionary': 1,\n",
       " 'Divisi': 1,\n",
       " 'Dubai': 1,\n",
       " 'ETF': 1,\n",
       " 'EVP': 1,\n",
       " 'EXPERIENCE': 2,\n",
       " 'Eik': 1,\n",
       " 'Emotional': 1,\n",
       " 'Enhancer': 1,\n",
       " 'Equitie': 1,\n",
       " 'Equity': 1,\n",
       " 'Ernst': 2,\n",
       " 'Eur': 1,\n",
       " 'Exchange': 3,\n",
       " 'Executive': 3,\n",
       " 'Experience': 1,\n",
       " 'FCMA': 3,\n",
       " 'FINCORP': 2,\n",
       " 'Family': 1,\n",
       " 'Feb.`16': 1,\n",
       " 'Feb.’16': 1,\n",
       " 'Fellow': 2,\n",
       " 'Financ': 2,\n",
       " 'Finance': 1,\n",
       " 'Financial': 5,\n",
       " 'First': 2,\n",
       " 'Fixe': 1,\n",
       " 'Fu': 2,\n",
       " 'GCC': 5,\n",
       " 'GCC/MENA': 1,\n",
       " 'GECS': 1,\n",
       " 'GMPI': 1,\n",
       " 'GRIP': 1,\n",
       " 'Generate': 1,\n",
       " 'Gl': 1,\n",
       " 'Global': 3,\n",
       " 'Gowribal': 1,\n",
       " 'Grew': 1,\n",
       " 'Gulf': 2,\n",
       " 'H': 3,\n",
       " 'HNB': 3,\n",
       " 'HNI/Individual': 1,\n",
       " 'Hatt': 1,\n",
       " 'He': 2,\n",
       " 'Holding': 3,\n",
       " 'Hone': 1,\n",
       " 'Honour': 1,\n",
       " 'I': 1,\n",
       " 'IPO': 5,\n",
       " 'IPO–': 1,\n",
       " 'Income': 1,\n",
       " 'Income/Debt': 1,\n",
       " 'Institute': 5,\n",
       " 'Insurance': 3,\n",
       " 'Intelligence': 1,\n",
       " 'International': 2,\n",
       " 'Inve': 1,\n",
       " 'Investment': 10,\n",
       " 'Islamic': 1,\n",
       " 'Jan`06': 2,\n",
       " 'January': 1,\n",
       " 'Jazeer': 1,\n",
       " 'Jun.’08': 2,\n",
       " 'Jun’08': 2,\n",
       " 'Key': 1,\n",
       " 'Kothari': 1,\n",
       " 'Lank': 4,\n",
       " 'Large': 1,\n",
       " 'Lt': 4,\n",
       " 'M': 6,\n",
       " 'MCSI': 3,\n",
       " 'MENA': 1,\n",
       " 'MGCI': 1,\n",
       " 'MGH': 2,\n",
       " 'Maj': 1,\n",
       " 'Management': 11,\n",
       " 'Management:': 1,\n",
       " 'Manager': 5,\n",
       " 'Mar`02': 2,\n",
       " 'Mar`07': 2,\n",
       " 'Market': 5,\n",
       " 'Mathematic': 1,\n",
       " 'Member': 2,\n",
       " 'Membership': 2,\n",
       " 'Merit': 1,\n",
       " 'Mobile': 3,\n",
       " 'Money': 2,\n",
       " 'Mth': 4,\n",
       " 'Mushroom': 1,\n",
       " 'Mutual': 2,\n",
       " 'N': 3,\n",
       " 'Nat': 1,\n",
       " 'National': 2,\n",
       " 'Note': 1,\n",
       " 'Nov`02': 4,\n",
       " 'Nov`05': 2,\n",
       " 'OCOI': 1,\n",
       " 'OIBB': 1,\n",
       " 'ONIC': 2,\n",
       " 'ORGANISATION': 1,\n",
       " 'OSCI': 1,\n",
       " 'OTEL': 1,\n",
       " 'Obtaine': 1,\n",
       " 'Oct.`12': 2,\n",
       " 'Officer': 1,\n",
       " 'Om': 7,\n",
       " 'Omantel': 1,\n",
       " 'Oman’': 1,\n",
       " 'Operational': 1,\n",
       " 'Oversight': 1,\n",
       " 'Oxfor': 2,\n",
       " 'P': 1,\n",
       " 'PERSONAL': 1,\n",
       " 'PROFESSIONAL': 3,\n",
       " 'Pensi': 1,\n",
       " 'Performing': 1,\n",
       " 'Personal': 1,\n",
       " 'Pl': 1,\n",
       " 'Platform': 1,\n",
       " 'Policy': 1,\n",
       " 'Portfoli': 4,\n",
       " 'Power': 1,\n",
       " 'Practising': 2,\n",
       " 'President': 2,\n",
       " 'Product': 3,\n",
       " 'Professional': 4,\n",
       " 'Profit': 1,\n",
       " 'Qualifications:': 2,\n",
       " 'RETURN': 1,\n",
       " 'RO': 2,\n",
       " 'ROI': 2,\n",
       " 'ROLE': 1,\n",
       " 'Registrati': 1,\n",
       " 'Reporte': 4,\n",
       " 'Resident': 1,\n",
       " 'Retirement': 1,\n",
       " 'Retur': 4,\n",
       " 'Reuter': 2,\n",
       " 'Risk': 2,\n",
       " 'SAOG': 10,\n",
       " 'SAOG;': 1,\n",
       " 'SEC/Securitie': 2,\n",
       " 'School': 1,\n",
       " 'Securitie': 4,\n",
       " 'Securitisati': 2,\n",
       " 'Sep.’12': 2,\n",
       " 'Serie': 1,\n",
       " 'Service': 1,\n",
       " 'Shari': 1,\n",
       " 'Since': 2,\n",
       " 'Smartline': 1,\n",
       " 'Sovereig': 1,\n",
       " 'Sponsor': 1,\n",
       " 'Sri': 4,\n",
       " 'Steel': 2,\n",
       " 'Stock': 1,\n",
       " 'Strategic': 1,\n",
       " 'Strategy': 2,\n",
       " 'Sukuk': 1,\n",
       " 'Sultanate': 1,\n",
       " 'Sweet': 1,\n",
       " 'TENURE': 1,\n",
       " 'Takaful': 2,\n",
       " 'Technical': 1,\n",
       " 'Telecom': 1,\n",
       " 'Telecommunicati': 1,\n",
       " 'The': 4,\n",
       " 'Total': 3,\n",
       " 'Trader': 3,\n",
       " 'Trading': 6,\n",
       " 'Training': 1,\n",
       " 'U.K': 4,\n",
       " 'U.S.A': 1,\n",
       " 'UAE': 1,\n",
       " 'US$': 1,\n",
       " 'USD': 7,\n",
       " 'University': 1,\n",
       " 'V': 1,\n",
       " 'Vi': 1,\n",
       " 'Vice': 2,\n",
       " 'Vitae': 3,\n",
       " 'Wealth': 2,\n",
       " 'Worke': 1,\n",
       " 'YEARS': 2,\n",
       " 'YES': 1,\n",
       " 'Yiel': 1,\n",
       " 'Young': 2,\n",
       " 'Yr': 10,\n",
       " 'Zawy': 1,\n",
       " 'backe': 1,\n",
       " 'banking': 1,\n",
       " 'busine': 1,\n",
       " 'capital': 2,\n",
       " 'chieve': 1,\n",
       " 'cl': 1,\n",
       " 'client': 1,\n",
       " 'collecting': 4,\n",
       " 'company': 1,\n",
       " 'competence': 1,\n",
       " 'complaint': 1,\n",
       " 'consiste': 1,\n",
       " 'contracting': 1,\n",
       " 'course': 1,\n",
       " 'coverage': 1,\n",
       " 'cquisiti': 1,\n",
       " 'cquisitions:': 1,\n",
       " 'cr': 4,\n",
       " 'cte': 2,\n",
       " 'e': 3,\n",
       " 'earne': 2,\n",
       " 'ebt': 2,\n",
       " 'ector': 1,\n",
       " 'ecuritie': 3,\n",
       " 'ecurity': 1,\n",
       " 'egments:': 1,\n",
       " 'elect': 1,\n",
       " 'electi': 1,\n",
       " 'elf': 1,\n",
       " 'elf-directe': 1,\n",
       " 'emerge': 1,\n",
       " 'emography': 1,\n",
       " 'employee': 1,\n",
       " 'encompassing;': 1,\n",
       " 'engineering': 1,\n",
       " 'enhancing': 1,\n",
       " 'equitie': 3,\n",
       " 'equity': 1,\n",
       " 'ervice': 4,\n",
       " 'establishe': 1,\n",
       " 'establishing': 2,\n",
       " 'et': 4,\n",
       " 'et-classe': 1,\n",
       " 'evelopment:': 1,\n",
       " 'exce': 2,\n",
       " 'exceeding': 1,\n",
       " 'exceptional': 1,\n",
       " 'exclusive': 1,\n",
       " 'exhibiting': 1,\n",
       " 'expertise': 1,\n",
       " 'f': 34,\n",
       " 'ffering': 3,\n",
       " 'ffice': 1,\n",
       " 'financial': 1,\n",
       " 'first': 1,\n",
       " 'fixe': 3,\n",
       " 'focuse': 2,\n",
       " 'focusing': 1,\n",
       " 'following': 1,\n",
       " 'for': 8,\n",
       " 'formulate': 1,\n",
       " 'formulating': 2,\n",
       " 'founding': 1,\n",
       " 'framework': 1,\n",
       " 'franchise': 1,\n",
       " 'from': 2,\n",
       " 'fu': 8,\n",
       " 'gai': 1,\n",
       " 'generate': 1,\n",
       " 'gent': 4,\n",
       " 'guideline': 1,\n",
       " 'handling': 1,\n",
       " 'history': 1,\n",
       " 'hli-annuitie': 1,\n",
       " 'holder': 1,\n",
       " 'holistic': 1,\n",
       " 'i': 10,\n",
       " 'ial': 2,\n",
       " 'iati': 1,\n",
       " 'impressive': 1,\n",
       " 'in-accordance': 1,\n",
       " 'incepti': 1,\n",
       " 'include': 3,\n",
       " 'income': 3,\n",
       " 'increase': 2,\n",
       " 'initial': 1,\n",
       " 'initiate': 1,\n",
       " 'investment': 8,\n",
       " 'investor': 1,\n",
       " 'ional': 1,\n",
       " 'irecte': 1,\n",
       " 'iscretionary': 1,\n",
       " 'issue': 1,\n",
       " 'ivisi': 1,\n",
       " 'juste': 1,\n",
       " 'large': 1,\n",
       " 'largest': 1,\n",
       " 'launching': 1,\n",
       " 'le': 2,\n",
       " 'leading': 1,\n",
       " 'liste': 2,\n",
       " 'll': 1,\n",
       " 'llocati': 1,\n",
       " 'low-volatility': 1,\n",
       " 'lph': 1,\n",
       " 'luti': 2,\n",
       " 'lysi': 1,\n",
       " 'lyst': 1,\n",
       " 'm': 1,\n",
       " 'mail': 3,\n",
       " 'maintaine': 1,\n",
       " 'manage': 1,\n",
       " 'management': 12,\n",
       " 'manager': 3,\n",
       " 'market': 5,\n",
       " 'member': 1,\n",
       " 'mount': 1,\n",
       " 'mutual': 2,\n",
       " 'p': 12,\n",
       " 'panning': 3,\n",
       " 'past': 1,\n",
       " 'peration:': 1,\n",
       " 'perator': 2,\n",
       " 'performance': 1,\n",
       " 'peri': 1,\n",
       " 'placement:': 1,\n",
       " 'planning': 2,\n",
       " 'platform': 1,\n",
       " 'portfoli': 10,\n",
       " 'ppointment': 2,\n",
       " 'product': 1,\n",
       " 'profile': 1,\n",
       " 'proprietary': 2,\n",
       " 'public': 1,\n",
       " 'purview': 1,\n",
       " 'raising': 1,\n",
       " 're': 1,\n",
       " 'realise': 1,\n",
       " 'recorde': 1,\n",
       " 'regi': 3,\n",
       " 'remainder': 1,\n",
       " 'report': 1,\n",
       " 'research': 1,\n",
       " 'resident': 1,\n",
       " 'respective': 1,\n",
       " 'responsible': 2,\n",
       " 'retirement': 2,\n",
       " 'retur': 4,\n",
       " 'risk': 3,\n",
       " 'risk-threshol': 1,\n",
       " 'rket': 1,\n",
       " 't': 9,\n",
       " 'tability': 1,\n",
       " 'tailore': 1,\n",
       " 'take': 3,\n",
       " 'targeting': 1,\n",
       " 'taske': 1,\n",
       " 'tching': 1,\n",
       " 'te': 1,\n",
       " 'term': 1,\n",
       " 'the': 33,\n",
       " 'tipulate': 1,\n",
       " 'tment': 1,\n",
       " 'tolerance': 1,\n",
       " 'total': 1,\n",
       " 'track-recor': 1,\n",
       " 'trading': 3,\n",
       " 'trategie': 2,\n",
       " 'trategizing': 1,\n",
       " 'trategy': 1,\n",
       " 'tructuring': 1,\n",
       " 'ual': 1,\n",
       " 'ubsidiary': 1,\n",
       " 'uit': 1,\n",
       " 'ukuk': 1,\n",
       " 'under': 6,\n",
       " 'universe': 1,\n",
       " 'up': 1,\n",
       " 'varie': 1,\n",
       " 'ver': 4,\n",
       " 'verage': 4,\n",
       " 'verall': 1,\n",
       " 'versight': 1,\n",
       " 'vertical': 1,\n",
       " 'vgowribalan@gmail.com': 3,\n",
       " 'vgowribalan@live.com': 3,\n",
       " 'vi': 1,\n",
       " 'visory': 2,\n",
       " 'wealth': 3,\n",
       " 'which': 2,\n",
       " 'with': 6,\n",
       " 'withi': 2,\n",
       " 'www.ahlibank.om': 1,\n",
       " 'www.ey.com': 1,\n",
       " 'www.fincorp.org': 1,\n",
       " 'www.hnb.lk': 1,\n",
       " 'www.hnbsl.lk': 1,\n",
       " 'www.mghglobal.com': 1,\n",
       " 'www.onicholding.com': 1,\n",
       " 'y': 1,\n",
       " 'year': 5,\n",
       " 'ystem': 1,\n",
       " 'α': 1,\n",
       " '–': 31,\n",
       " '–First': 1,\n",
       " '‘alpha’': 1,\n",
       " '•': 3,\n",
       " '\\uf0b7': 29,\n",
       " '\\uf0bb': 2}"
      ]
     },
     "execution_count": 53,
     "metadata": {},
     "output_type": "execute_result"
    }
   ],
   "source": [
    "wordfreq"
   ]
  },
  {
   "cell_type": "code",
   "execution_count": 31,
   "metadata": {},
   "outputs": [
    {
     "data": {
      "text/plain": [
       "{1: 'bob', 2: 'alan', 3: 'danny', 23: 'hello', 40: 'carl'}"
      ]
     },
     "execution_count": 31,
     "metadata": {},
     "output_type": "execute_result"
    }
   ],
   "source": [
    "mydict = {'carl':40,\n",
    "          'alan':2,\n",
    "          'bob':1,\n",
    "          'danny':3,\n",
    "          'hello':23}\n",
    "\n",
    "# for key, value in mydict:\n",
    "    \n",
    "\n",
    "\n",
    "# print(sorted(mydict))\n",
    "\n",
    "# for key, value in mydict.items():\n",
    "#     new_dict = (\"%s: %s\") % (value, key)\n",
    "#     print(new_dict)\n",
    "\n",
    "# for key, value in sorted(mydict.items(), key lambda (k,v): (v,k)):\n",
    "#     print((\"%s: %s\") % (key, value))\n",
    "\n",
    "\n",
    "my_dict2 = {value: key for key, value in mydict.items()}\n",
    "my_dict2"
   ]
  },
  {
   "cell_type": "code",
   "execution_count": 56,
   "metadata": {},
   "outputs": [
    {
     "data": {
      "text/plain": [
       "OrderedDict([('bob', 1),\n",
       "             ('alan', 2),\n",
       "             ('danny', 3),\n",
       "             ('hello', 23),\n",
       "             ('carl', 40)])"
      ]
     },
     "execution_count": 56,
     "metadata": {},
     "output_type": "execute_result"
    }
   ],
   "source": [
    "from collections import OrderedDict\n",
    "\n",
    "mydict = {'carl':40,\n",
    "          'alan':2,\n",
    "          'bob':1,\n",
    "          'danny':3,\n",
    "          'hello':23}\n",
    "try_ascending = OrderedDict(sorted(mydict.items(), key=lambda key: key[1]))\n",
    "# list(try_ascending)\n",
    "try_ascending"
   ]
  },
  {
   "cell_type": "code",
   "execution_count": 63,
   "metadata": {},
   "outputs": [],
   "source": [
    "aaaa = list(try_ascending.items())"
   ]
  },
  {
   "cell_type": "code",
   "execution_count": 65,
   "metadata": {},
   "outputs": [
    {
     "data": {
      "text/plain": [
       "[('danny', 3), ('hello', 23), ('carl', 40)]"
      ]
     },
     "execution_count": 65,
     "metadata": {},
     "output_type": "execute_result"
    }
   ],
   "source": [
    "aaaa[2:]"
   ]
  },
  {
   "cell_type": "code",
   "execution_count": 57,
   "metadata": {},
   "outputs": [
    {
     "data": {
      "text/plain": [
       "OrderedDict([('bob', 1),\n",
       "             ('alan', 2),\n",
       "             ('danny', 3),\n",
       "             ('hello', 23),\n",
       "             ('carl', 40)])"
      ]
     },
     "execution_count": 57,
     "metadata": {},
     "output_type": "execute_result"
    }
   ],
   "source": [
    "# for count in range(2):\n",
    "    \n",
    "del try_ascending['bob']\n",
    "try_ascending"
   ]
  },
  {
   "cell_type": "code",
   "execution_count": 43,
   "metadata": {},
   "outputs": [
    {
     "ename": "TypeError",
     "evalue": "unhashable type: 'slice'",
     "output_type": "error",
     "traceback": [
      "\u001b[0;31m---------------------------------------------------------------------------\u001b[0m",
      "\u001b[0;31mTypeError\u001b[0m                                 Traceback (most recent call last)",
      "\u001b[0;32m<ipython-input-43-38ac1895136b>\u001b[0m in \u001b[0;36m<module>\u001b[0;34m()\u001b[0m\n\u001b[0;32m----> 1\u001b[0;31m \u001b[0mtry_ascending\u001b[0m\u001b[0;34m[\u001b[0m\u001b[0;36m2\u001b[0m\u001b[0;34m:\u001b[0m\u001b[0;34m]\u001b[0m\u001b[0;34m\u001b[0m\u001b[0m\n\u001b[0m",
      "\u001b[0;31mTypeError\u001b[0m: unhashable type: 'slice'"
     ]
    }
   ],
   "source": [
    "try_ascending[2:]"
   ]
  },
  {
   "cell_type": "code",
   "execution_count": 36,
   "metadata": {},
   "outputs": [],
   "source": [
    "from collections import OrderedDict\n",
    "d = { '123': { 'key1': 3, 'key2': 11, 'key3': 3 },\n",
    "      '124': { 'key1': 6, 'key2': 56, 'key3': 6 },\n",
    "      '125': { 'key1': 7, 'key2': 44, 'key3': 9 },\n",
    "    }\n",
    "d_ascending = OrderedDict(sorted(d.items(), key=lambda kv: kv[1]['key3']))\n",
    "d_descending = OrderedDict(sorted(d.items(), key=lambda kv: kv[1]['key3'], reverse=True))"
   ]
  },
  {
   "cell_type": "code",
   "execution_count": 37,
   "metadata": {},
   "outputs": [
    {
     "data": {
      "text/plain": [
       "OrderedDict([('123', {'key1': 3, 'key2': 11, 'key3': 3}),\n",
       "             ('124', {'key1': 6, 'key2': 56, 'key3': 6}),\n",
       "             ('125', {'key1': 7, 'key2': 44, 'key3': 9})])"
      ]
     },
     "execution_count": 37,
     "metadata": {},
     "output_type": "execute_result"
    }
   ],
   "source": [
    "d_ascending"
   ]
  },
  {
   "cell_type": "code",
   "execution_count": 38,
   "metadata": {},
   "outputs": [
    {
     "data": {
      "text/plain": [
       "OrderedDict([('125', {'key1': 7, 'key2': 44, 'key3': 9}),\n",
       "             ('124', {'key1': 6, 'key2': 56, 'key3': 6}),\n",
       "             ('123', {'key1': 3, 'key2': 11, 'key3': 3})])"
      ]
     },
     "execution_count": 38,
     "metadata": {},
     "output_type": "execute_result"
    }
   ],
   "source": [
    "d_descending"
   ]
  },
  {
   "cell_type": "code",
   "execution_count": null,
   "metadata": {
    "collapsed": true
   },
   "outputs": [],
   "source": [
    "a = [1, 2, 3, 4, 5, 6, 7, 8, 9, 10]\n",
    "ls = [a[]]\n",
    "lst = lst[:len(lst)-n]"
   ]
  },
  {
   "cell_type": "code",
   "execution_count": 69,
   "metadata": {
    "collapsed": true
   },
   "outputs": [],
   "source": [
    "x = [(1, 'a'), (2, 'b'), (3, 'c')]"
   ]
  },
  {
   "cell_type": "code",
   "execution_count": 70,
   "metadata": {},
   "outputs": [
    {
     "data": {
      "text/plain": [
       "'a'"
      ]
     },
     "execution_count": 70,
     "metadata": {},
     "output_type": "execute_result"
    }
   ],
   "source": [
    "x[0][1]"
   ]
  },
  {
   "cell_type": "code",
   "execution_count": 71,
   "metadata": {},
   "outputs": [
    {
     "data": {
      "text/plain": [
       "[1, 2, 3]"
      ]
     },
     "execution_count": 71,
     "metadata": {},
     "output_type": "execute_result"
    }
   ],
   "source": [
    "clean_uni_tokens = []\n",
    "for each in x:\n",
    "    clean_uni_tokens.append(each[0])\n",
    "clean_uni_tokens"
   ]
  },
  {
   "cell_type": "code",
   "execution_count": 73,
   "metadata": {},
   "outputs": [
    {
     "data": {
      "text/plain": [
       "[1, 2, 3, 4, 5, 6, 7, 8, 9, 10]"
      ]
     },
     "execution_count": 73,
     "metadata": {},
     "output_type": "execute_result"
    }
   ],
   "source": [
    "a = [1, 2, 3, 4, 5, 6, 7, 8, 9, 10]\n",
    "\n",
    "token_index = []\n",
    "for num in range(1, len(a)+1):\n",
    "    token_index.append(num)\n",
    "token_index"
   ]
  },
  {
   "cell_type": "code",
   "execution_count": 75,
   "metadata": {},
   "outputs": [
    {
     "data": {
      "text/plain": [
       "{1: 'a',\n",
       " 2: 'b',\n",
       " 3: 'c',\n",
       " 4: 'd',\n",
       " 5: 'e',\n",
       " 6: 'f',\n",
       " 7: 'g',\n",
       " 8: 'h',\n",
       " 9: 'i',\n",
       " 10: 'j'}"
      ]
     },
     "execution_count": 75,
     "metadata": {},
     "output_type": "execute_result"
    }
   ],
   "source": [
    "b = ['a', 'b', 'c', 'd', 'e', 'f', 'g', 'h', 'i', 'j']\n",
    "new_dict = dict(zip(a, b))\n",
    "new_dict"
   ]
  },
  {
   "cell_type": "code",
   "execution_count": 76,
   "metadata": {},
   "outputs": [
    {
     "data": {
      "text/plain": [
       "'c'"
      ]
     },
     "execution_count": 76,
     "metadata": {},
     "output_type": "execute_result"
    }
   ],
   "source": [
    "new_dict[3]"
   ]
  },
  {
   "cell_type": "code",
   "execution_count": 79,
   "metadata": {
    "collapsed": true
   },
   "outputs": [],
   "source": [
    "# Dataset for me(29286875) copied from moodle\n",
    "myDataset = '262 76 778 565 6 623'\n",
    "\n",
    "# Create an empty list\n",
    "myDataset_ls = []\n",
    "\n",
    "# Convert string to list\n",
    "myDataset_ls = myDataset.split(' ')\n",
    "\n",
    "# Format filenames assign to cv_name_ls\n",
    "cv_name_ls = ['resume_(' + s + ').txt' for s in myDataset_ls]"
   ]
  },
  {
   "cell_type": "code",
   "execution_count": 108,
   "metadata": {},
   "outputs": [
    {
     "name": "stdout",
     "output_type": "stream",
     "text": [
      "Pao Wing In MaryBlk 415 Bedok North Ave 2 #18-99, Singapore 460415(+65) 98429280, mary_pao_wing_in@hotmail.comSKILLS / COMPETENCIES  Languages: English and Mandarin  Computing Skills: Efront, Siebel, Microsoft Office and Bloomberg  Personal  Core Competencies:  Analytical  Skills, Valuation  Skills,  Logical Problem  SolvingSkills, Interpersonal Skills and Motivational SkillsWORK EXPERIENCEPartners GroupInvestment Date ServicesFinancial Analyst  Maintain and reconcile the valuation of Partners Group’s investorsand investments  Update system records with respect to net asset values, portfoliopositions and investment income  Support fund monitoring process  Assist deal teams and reporting teams with investmentinformation  Liaise with different departments to ensure accurate andcomplete investment set up in the system  Execute adjustments and restructurings of Partners Group’sproductsCityneonFinance and Accounting DepartmentProfessional Intern  Performed account payable functions  Casted draft audited f inancial statements for ACRA filing purpose  Filed company statistics with Singapore Department of Statistics  Validated tax figures on return for reporting purposeBNP ParibasHuman ResourcesProfessional Intern  Extracted and organized different type of data into meaningfulformat for analytical purpose  Ensured appropriate employment passes were applied orrenewed for new hires and existing stays  Conducted reference check for new hires and leaversAug 2013 – PresentMay 2012 – July 2012May 2011 – July 2011Happy Jewelry Trading ManufacturingPart Time Accountant  Handled bookkeeping and accounting duties  Generated and issued work perm its and shipment permits  Built and managed the inventory tracking systemPrudential Assurance CompanyPolicy Service DepartmentProfessional Intern  Analyzed reasons for discrepancies in fund units  Calculated the fund units for system patching purpose  Ratif ied statement of account to ensure accuracyEDUCATIONBachelor of Business (Second Upper Honours)Banking and Finance SpecializationNanyang Technological University, SingaporeDiploma in Business with MeritBanking and Finance SpecializationTemasak Polytechnic, SingaporeMar 2010 – Aug 2010Sept 2009 – Nov 2009Aug 2010 – Jun 2013Mar 2007 – Apr 2010AWARDS & ACHIEVEMENTS  Completed Japanese Elementary Levels with Bunka Language Pte School (Mar 2013)  Participated in the GEM Discoverer Study at Georgia Institute of Technology,United State (Jan 2012 – May 2012)  Represented NTU in Singapore Business Case Competition 2011 (Semi-Finalist)  Director’s Honours List (2008 – 2010)  BP International Mentoring and Tutoring Bronze Service Award (2009)  Edusave Merit Bursary Award (2004,2006)  Edusave Awards for Achievement, Good Leadership and Service (2002)Karen CHAN, Ka ChingFlat A, 9/F, Block 8, LePoint, Tseung Kwan O, N.T.E: ckching13@gmail.comT: 5172 8589EDUCATIONAL AND PROFESSIONAL QUALIFICATIONS  CPA Australia; Associate member joined in October 2015Subject includes: Strategic Management Accounting (passed); Ethics and Governance (pending result); FinancialAccounting, Advanced Audit and Assurance, Financial Risk Management, Global Strategic and Leadership (to becompleted)  Newcastle University, UK; October 2012- July 2015Bachelor of Accounting and Finance- 2.1 second upper class honorsCore module: Financial accounting, financial control, corporate finance, derivatives market, auditing, taxationCOMMERCIAL AWARENESS/ BUSINESS EXPERIENCEAccount Officer Second Level Controls & Accounting Policies, APAC CIB Finance- BNP Paribas;Jan 2016- PresentEntities in charge of the quality control of South Asia Platform. Extended knowledge in financial service including fixedincome product, structured deal and equity capital markets operations with regular monitor and strengthens the entitycontrol environment to mitigate financial and operational risk at regional levelImplemented standardized controls to ensure adherence to Group accounting standards  Performed control testing and analytical review to identify and follow up on potential accounting risk  Reported and escalated system/ internal control deficiency with KPI/KRI to regional and local management ontimely basis  Contributed to the maintenance of the account and control database for the region  Liaison with local and central finance team for resolution of control issuesAudit & Tax Associate FUNG, YU & CO. CPA Limited; Aug- Nov 2015Conducted new audit engagements independently from start to completions including planning, executing, directingand finalizing the financial audit for multiple clients (e.g. manufactory, overseas trading, ORSO, investmentproperties and holding etc.)In-charged in obtaining necessary audit working paper, facts and findings and vouching tested to material items  Proactively interacted with clients for outstanding matters and information flows efficiently  Prepared the Tax computation and the Profit Tax Return for IRD submission  Assisted in implementation and research of technical updates and regular reporting amendmentSummer Audit Internship RSM Nelson Wheeler (HK); Jun- Aug 2014Gained my commercial awareness of current development in various industry by reviewing client's internal controlsystem, developed a professional insight in the sector of auditing.  Assisted the audit team in completion of in-house and field work audit within required time  Communicated the outstanding issues with client and obtained necessary supporting at materiality level  Prepared consolidation and analytical review on the financial statementIdentified and reported any irregularities to manager with commentariesLANGUAGES AND IT SKILLS  Native spoken and written in Chinese (Cantonese); Fluent in spoken and written English and Mandarin  Proceed in learning Japanese at beginner level  Proficiency in MS functions  Sound knowledge in Accounting tools (incl. QuickBooks, SAP, Business objects)EXTRA CURRICULAR ACTIVITIES & INTERESTSTreasure of Hong Kong society- Newcastle University; 2012-2014Member of Accounting Society-Newcastle University; 2012-2015Part Time Assistant Stage Manager of the Whole Theatre (Drama Society); 2007-2009Member of Swimming Team and Photography Society in Secondary school; 2005-2009FARRAHDIANAH BINTI YAHYAA-9-9 Bougainvilla Condo,Jln Prima Pelangi 1,Bukit Prima Pelangi,51200 Segambut Dalam, Kuala LumpurMobile Phone: +6017.272.3675Email: farrah.sixfingers@gmail.comfarrahyahya91@gmail.comPROFESSIONAL OBJECTIVESTo  enhance  my  knowledge  on  career  chosen  and  to  expose  myself  in  a  professionalworking  environment  that  enables  me  to  gain  and  grow  while  performing  this  job.Besides  that  I want  to contribute my ability  to meet  the corporation’s goals and  to  live alife of accomplishment and fulfilment to society.PERSONAL DETAILSNationalityReligionIdentity Card NoDate of BirthAgeGenderMarital status:::::::MalaysianIslam910214-12-520814 February 199126 years oldFemaleSingleKEY STRENGTHS & HIGHLIGHTS• Highly  responsible  and  very well  versed with  business  aspects  and  needs  of  theemployer.• Well exposed to different work environments.• Able to communicate in English and Bahasa Malaysia.resU!1!• Have  excellent  cross-cultural  skills  and  the  experience  of working with  people  ofvarious nationalities.2011 –2014EDUCATIONBachelor of International Tourism Management(Honours) (Event Management) at Taylor ’s Schoolof Hospitality, Tourism & Culinary Arts (TCHT),Taylor ’s University Lakeside Campus, Subang Jaya,Selangor, Malaysia.2009- 20112007- 20082004- 2006Diploma in Tourism Management at Taylor ’s Schoolof Hospitality, Tourism & Culinary Arts (TCHT),Taylor ’s University Lakeside Campus, Subang Jaya,Selangor, Malaysia. Graduated on June 2011.The Malaysian certificate of Education (SPM)SMK Cochrane Kuala LumpurLower Secondary Assessment (PMR)SMK Cochrane Kuala LumpurWORKING EXPERIENCE & PROFESSIONAL TRAININGWorking (May 2015 - May 2017):• Executive  (front  desk  management  and  administration)People & Culture Department at Tpaay Asia Sdn Bhd.• Receptionist  =Serve  visitors  by  greeting,  welcoming,directing and announcing  them appropriately Answer, screenand  forward  any  incoming  phone  calls  while  providing  basicinformation  when  needed.  Receive  and  sort  daily  mail/deliveries/couriers Maintain  security  by  following  proceduresand controlling access (monitor/visitor logbook)• Admin  /  HR  support  =  Entering  data  into  a  computer,Provide  office  supplier/vendor,  Monitor  stock  level  ofs t a t i o n a r y,  p a n t r y  g o o d s ,  p r e p a r i n g  PO / PR ,  F i l i n gdocuments,  producing  form.  Process  new  staff  medicalinsurances,  claims,  and  ID90.  Distribution  of  staff  passescards  and  related  cards,  office  keys.  Handling  Jobstreet  fornew  hires,  providing  application  information,  helping  withresU!2form  completion;  notifying  employees  of  approvals.  Do  theco-operate  accounts  ledger  every  end  of  the  month  thenpass  i t  to  f inance  a f ter  ge t  the  approva l .  Organ izeconference  and  meeting  room  booking  sheets.  Helpingorganize  office  activities,  maintain  the  general  filing  system,maintain an adequate  inventory of office supplier,  respond  toteam  inquires, always  remain  tea  lady  to maintain our pantryand office.• Facilities  management  support  =  Assist  to  planning  andoverseeing  building  work/renovation,  coordinating  cleaning,catering  and  parking  services,  coordinate  the  repair  andmaintenance of office equipment.• Business  Support  =  Assist  or  helping  other  team  whenrequired to do and upon approval by supervisor.• L e i s u r e  H o l i d a y  S d n  B h d  u n d e r  M em b e r  S e r v i c e sDepartment as a Booking Reservation.Leisure Commence Petaling Jaya.• Perbadanan Putrajaya under Public Relation. Putrajaya.• Six  Fingers  Dot  Com  Sdn  Bhd  under  event  operation,  salesand marketing at Kelana Jaya Square• Hotshoe  Event  Company  under  event  operation,  sales  andmarketing at Petaling Jaya.• Had experience as a promoter during semester break.• To do part time as an event crew.SPECIAL SKILLSSpokenExcellentWrittenExcellentPractical Student:Part Time:Computer Skills1. MS Word2. MS Excel3. MS Power PointLanguage SkillsLanguagesBahasa MelayuresU!3EnglishGoodGoodINTERESTTravel all around the world, Reading, singing and Listening to music.REFERENCESSiti Haida Binti IsmailSenior Executive People & CultureSitihaida.ismail@tunemoney.comMobile: +6012 659 4384Office: +603 2082 0999Noor Zaitulakmar Binti IsmailPA cum Senior Executive People & Culturenoor.zaitulakmar@tunemoney.comMobile: +010 7771777Office: +603 2082 0999resU!4CHOW SHING LUNG CHESTERAddress：24D, Kwai Chung Fa Yuen, 52 Wo Yi Hop Road, Kwai Chung, N.T.Tel：+852 9279 7979 Email：chester.sl.chow@gmail.comWORK EXPERIENCEMAR 2016 – PRESENT  Alibaba Group – Company Secretarial Officer  To handle full spectrum of company secretarial duties for three listed companies –Alibaba Pictures Group Limited, Alibaba Health Information Technology Limited andAGTech Holdings Limited  To review and negotiate contracts in listed companies’ M&A transactions  To review business agreements, NDA, employment contracts and procurement contracts  Key Achievement:  Assisted in over 20 disclosable transactions and connected transactions  Reviewed and developed a group-wide code of conduct for offices in 17 countries in 4 continentswith country specific appendices in compliance with local law and regulationsJUL 2013 – FEB 2016  Luk Fook Holdings (International) Limited - Assistant Company Secretarial Officer  Prepared and reviewed annual/interim reports, various announcements and circulars  Handled notifiable transactions and connected transactions  Held directors’ and shareholders’ meetings and prepared pre- and post-meeting documentsincluding minutes of board meetings and committee meetings  Made timely SFO filing via monitoring the interests of directors, substantial shareholders and concertparties  Established various compliance and internal control policies for the group  Advised the board on the compliance with the Listing Rules, SFO and Takeovers Code  Key Achievement:  Assisted in the acquisition of 50% interest of China Gold Silver Group Company Limited (3D-GOLD)  Developed and implemented the Guideline on Securities Transactions by Directors and RelevantMAR 2013 - JUL 2013Intertrust Group - Semi SeniorEmployees for the group  Handled incorporation of companies  Processed share transfers and changes of directors  Prepared annual return, tax return and other statutory documents  Maintained statutory registers for companies  Arranged for opening of bank accountsJUL 2010 - MAR 2013    Tricor Services Limited - Officer  Provided full spectrum of company secretarial and advisory services to the  listed clients  Reviewed annual/interim reports, announcements and circulars  Reviewed IPO prospectus and application forms  Prepared annual return, tax return and other statutory documents  Liaised with banks and prepared bank account opening documents  Handled ad-hoc assignments such as alternation of M&A and change of company namesKey Achievement:EDUCATIONAssisted in the IPO of Chow Tai Fuk Jewellery Group Limited in 20122016 - 2018Master of Corporate GovernanceThe Hong Kong Polytechnic University2012 - 2015Bachelor of Business Administration (Hons) in Corporate AdministrationThe Open University of Hong Kong2008 - 2010Associate of Arts in English for Business Communication2003 - 2005S.K.H. Li Ping Secondary School, Secondary 6-7The Hong Kong Polytechnic University – Hong Kong Community College  Obtained an A in Reading and Language Systems of Use of English in HKALE 20051998 - 2003Po Leung Kuk Lee Shing Pik College, Secondary 1-5REFERENCES AVAILABLE ON REQUEST1SKILLSCHOW SHING LUNG CHESTERAddress：24D, Kwai Chung Fa Yuen, 52 Wo Yi Hop Road, Kwai Chung, N.T.Tel：+852 9279 7979 Email：chester.sl.chow@gmail.com  Language - Excellent command in written English (British) and Chinese (traditional and simplified)- Fluent in spoken English, Cantonese and Putonghua  Computer  - CSA, MS Word, Excel, Power Point and English and Chinese Word Processing  Typing- English 70 wpm, Chinese 60 wpmSALARY  Current    - HK$36,000 on average  Expected - HK$36,000AVAILABILITY  1-month noticeREFERENCES AVAILABLE ON REQUEST2Edmond Zhang, CABlk 185 Jelebu Rd #28-16 Singapore 670185+65 8139 1353 | edmond_z@hotmail.com | SingaporeanSingaporePROFESSIONAL EXPERIENCEErnst & YoungFinancial Services Office, Audit and Assurance (Asset Management specialisation)Assistant ManagerSep 12 - Current  Audited private real estate fund’s quarterly NAV and consolidation, focusing on fund structure, realestate valuation, construction in progress, loan amortisation and FX options hedges.  Analysed quarterly asset valuation performed by independent appraisers, providing commentary onthe reasonableness of asset value for quarterly audit review  Performed testing and identified control deficiencies surrounding fund management processes,including capital calls/returns, cash management, portfolio acquisition and financial reporting  Reviewed key accounting policies and advised client on the appropriate accounting treatment inadherence to the relevant financial reporting standards  Experienced in dealing with lawyers, investment deal teams, investment support teams and fundadministratorsKordaMenthaForensics DepartmentInternMay 11 – Jul 11  Formed hypothesis and conducted scenario analysis for a New South Wales Supreme Court case,and substantiated $0 damages to be paid by the defendantInvestigated  trades  entered  by  a  fund  manager  in  Singapore  against  SGX  data  and  identified  31fraudulent transactions  Researched and authored monthly anti-fraud newsletters for a major mining corporationSingaporeEDUCATIONSingaporeNanyang Technological UniversityBachelor of Accountancy: 2nd Upper Class Honors (2:1)Aug 09 – Jul 12  Relevant coursework: Business Valuation and Analysis, Risk Reporting and AnalysisChinese University of Hong KongInternational Student Exchange ProgrammeRelevant coursework: Strategic Management, InvestmentsSKILLS, CERTIFICATIONS & INTERESTSLanguages: Fluent in English, ChineseCertifications & Training  Passed CFA Level 1Institute of Singapore Chartered Accountant Associate MemberIT: MS Excel, Bloomberg, ReutersHong KongAug 11 – Dec 11WONG Hei Yi, KatieFlat 2, 9/F, Phase 1, Kwan Yick Building, 432 Des Voeux Road West, Sai Ying Pun, Hong KongEmail: heiyi_wong@yahoo.com.hk  | Mobile: (852) 6699 9672#OBJECTIVE#To  obtain  a  position  that  will  enable  the  use  of  my  strong  business  skills  and  practical  accounting  knowledge  withstrong sense of responsibility and teamwork spirit.#WORK & LEADERSHIP EXPERIENCE#CentralPricewaterhouseCoopers LimitedSenior Associate, Assurance – Financial ServicesSep 2014 – Present  Specialize  in  banking  and  asset  management  industry,  provide  external  financial  audit  services  (including  annua laudit  and  interim  review)  to  clients  ranging  from  Big  4  state-controlled  multinational  commercial  bank,investment trusts, index funds, master-feeder funds, funds-of-funds, SFC licensed corporations to securities firms  Lead 2 teams with 6 members as a field-in-charge throughout the audit planning, execution and completion stage  Analyze  capital  expenditure,  revenue  growth,  and  other  financial  statements  line  items  (such  as  loans  and  advancebalance,  debt  securities  investment  /  issued,  interbank  placements,  management  fee  expense,  realized  gains  orlosses  of  investment)  by  invest igating  client’s  business  plan,  currency  fluctuations,  product  mix,  and  othermacroeconomic factors to form an expectation in audit  Perform  credit  review  to  assess  credit  risk  and  impairment  indicator  of  bank  borrowers  and  identify  potentia ldowngrade under HKMA’s loan classification system  Provide audit on regulatory reporting, such as banking returns in accordance with completion instructions issued byHKMA,  and  insurance  returns  in  accordance  with  Insurance  Companies  (General  Business)  (Valuation)Regulation  Conduct  control  walkthroughs  on  different  banking  cycles  (such  as  credit,  treasury,  financial  reporting)  bydiscussing with departmental heads and managers and observing the operational  flows  Perform reconciliation of Net Asset Value and financia l risk management with analysis of  investment positions andexposures for over 10 fundsBanking clients include:  Agricultural Bank of China Limited  - Hong Kong Branch(Branch of Agricultural Bank of China - listed in Shanghai (SSE: 601288) and Hong Kong (HKSE: 1288))Principal Activity: Provision of banking and related financial services  in Hong KongAsset management clients include:  Value Partners Funds(SFC authorized  and  non-SFC authorized  funds  launched  and managed  by Value Partners Group Limited  -  listedin Hong Kong (HKSE: 0806))Principal Activity: To achieve capital growth / provide regular income through  investing in companies establishedin Greater China region and Hong Kong /global bonds  Tracker Fund of Hong Kong (HKSE: 2800)Principal  Activity:  To  provide  investment  results  that  closely  correspond  to  the  performance  of  the  Hang  SengIndex  Amundi HK Portfolios(SFC authorized funds launched and managed by Amundi Hong Kong Limited)Principal  Activity:  To  achieve  capital  growth  /  outperform  the  benchmark  index  with  a  lower  volatility  throughinvesting in global equities, bonds, cash and money market instrumentsInsurance clients include:  Taiping Reinsurance Company Limited(Subsidiary of China Taiping Insurance Holdings Company Limited  -  listed in Hong Kong (HKSE: 0966))Principal Activity: Underwriting of global reinsurance businessCentralPricewaterhouseCoopers LimitedTrainee Assistant, Assurance – Entrepreneurial Group (Winter internship program)Jan – Mar 2013  Audited  clients’  books  and  records,  participated  in  site  audit,  delivered  great  teamwork  spirit  and  cooperatedefficiently  Assisted  in  preparation  of  working  papers  and  performing  relevant  testing  for  different  financial  statements  lineitems,  such  as  operating  expenses  analysis,  cash  and  bank  balances,  statutory  record,  journal  vouchers  review ,walkthrough testing  Performed  administrative  duties  including  external  file  preparation  and  proofreading  financial  reports  to  complet ethe preparation of final annual reportPROFESSIONAL QUALIFICATIONDec 2015  Graduate  of  HKICPA  Qualification  Programme,   The  Hong  Kong  Institute  of  Certified  PublicAccountantsCurrent candidate of CFA Program Level 2, CFA InstitutePresent#EDUCATION#Sep 2011 – Jun 2014  The Hong Kong Polytechnic UniversityBachelor of Business Administration (Hons) – Accountancy(CGPA: 3.05/4.0, Second Class Honours, Division 2)#AWARDS/HONORS/CERTIFICATIONS#Certificate  of  Merit  (Top  40  out  of  343  teams),  QP  Case  Analysis  Competition  2013,  The  Hong  Kong2013Institute of Certified Public AccountantsCertificate  of  Merit,  KPMG  Business  Administration  Paper  2012,  Hong  Kong  Federation  of  Business2013Students#SPECIAL SKILLS & INTERESTS#SkillsManagement skills (Planning, Organizing Data),Analytical and Problem Solving skills,Interpersonal and Communication skills, andPresentation skillsEffective Use  of Microsoft Office  in Business Course, Welkin Professional Development  and  Training(Dec 2013)Computing  Microsoft Office applications (Excel, Word, PowerPoint and Access) – Advanced userPeachtree accounting software – Intermediate levelFluent English (written & spoken)Native Chinese (written & spoken)Fluent PutonghuaTravelling, Movies, BadmintonLanguagesTrainingInterestsA more detailed resume is available upon request\n"
     ]
    }
   ],
   "source": [
    "import os\n",
    "\n",
    "# Create a string to store per resume\n",
    "each_resume = ''\n",
    "\n",
    "# Return a list containing the names of the entries in the directory given by path\n",
    "# os.listdir(path of resumeTxt)\n",
    "for file in os.listdir(\"/Users/eileen/Jupyter/5196 data wrangling/Assignments/A1/PDF/resumeTxt+task2_pdf\"):\n",
    "    temp = []\n",
    "    \n",
    "    if file in cv_name_ls:\n",
    "        # Read each resume\n",
    "        with open(file, 'r') as f:\n",
    "            # Read line by line\n",
    "            for line in f.readlines():\n",
    "                l = line.strip()\n",
    "                # Add into my_CVs\n",
    "                each_resume += l\n",
    "#             each_resume += '\\n=\\n'\n",
    "print(each_resume)\n",
    "# print(each_resume)\n",
    "#     temp = each_resume.split(\" \")\n",
    "# temp"
   ]
  },
  {
   "cell_type": "code",
   "execution_count": 94,
   "metadata": {},
   "outputs": [
    {
     "data": {
      "text/plain": [
       "[1, 3, 4, 5, 6]"
      ]
     },
     "execution_count": 94,
     "metadata": {},
     "output_type": "execute_result"
    }
   ],
   "source": [
    "non_repeat = [1, 1, 1, 3, 4, 5, 5, 5, 6]\n",
    "list(set(non_repeat))"
   ]
  },
  {
   "cell_type": "code",
   "execution_count": 109,
   "metadata": {},
   "outputs": [
    {
     "data": {
      "text/plain": [
       "250"
      ]
     },
     "execution_count": 109,
     "metadata": {},
     "output_type": "execute_result"
    }
   ],
   "source": [
    "# Dataset for me(29286875) copied from moodle\n",
    "myDataset = '262 76 778 565 6 623 \\\n",
    "200 742 645 418 520 814 467 680 216 12 762 63 \\\n",
    "276 66 236 722 82 779 626 206 276 649 750 20 167 738 602 6 251 808 \\\n",
    "729 115 80 71 539 38 426 44 556 779 251 760 61 728 251 268 421 750 \\\n",
    "832 807 55 452 683 303 560 555 547 265 649 441 633 108 517 744 137 \\\n",
    "446 182 397 442 8 266 630 857 17 498 32 293 711 413 445 392 606 322 \\\n",
    "422 54 582 657 239 309 382 286 105 336 786 788 712 738 516 29 523 \\\n",
    "51 428 43 47 819 649 598 297 615 208 865 720 122 789 372 860 813 \\\n",
    "219 700 275 4 466 455 277 427 728 71 812 284 646 327 397 262 22 \\\n",
    "450 80 377 26 332 45 325 24 274 153 847 311 168 99 361 362 139 602 \\\n",
    "551 517 111 812 1 364 467 323 398 207 837 716 733 685 498 817 336 \\\n",
    "395 154 265 492 117 389 833 705 703 270 218 435 475 338 513 621 \\\n",
    "208 839 560 370 81 445 89 12 645 336 157 47 91 32 797 837 803 195 \\\n",
    "861 237 31 810 634 211 246 278 788 556 726 684 815 460 596 237 640 \\\n",
    "764 251 304 474 154 384 743 749 593 327 749 515 543 310 833 464 724 \\\n",
    "66 331 649 397 426 383 492'\n",
    "\n",
    "# Create an empty list\n",
    "myDataset_ls = []\n",
    "\n",
    "# Convert string to list\n",
    "myDataset_ls = myDataset.split(' ')\n",
    "\n",
    "# Format filenames assign to cv_name_ls\n",
    "cv_name_ls = ['resume_(' + s + ').txt' for s in myDataset_ls]\n",
    "\n",
    "len(cv_name_ls)"
   ]
  },
  {
   "cell_type": "code",
   "execution_count": null,
   "metadata": {
    "collapsed": true
   },
   "outputs": [],
   "source": []
  }
 ],
 "metadata": {
  "kernelspec": {
   "display_name": "Python 3",
   "language": "python",
   "name": "python3"
  },
  "language_info": {
   "codemirror_mode": {
    "name": "ipython",
    "version": 3
   },
   "file_extension": ".py",
   "mimetype": "text/x-python",
   "name": "python",
   "nbconvert_exporter": "python",
   "pygments_lexer": "ipython3",
   "version": "3.6.3"
  }
 },
 "nbformat": 4,
 "nbformat_minor": 2
}
