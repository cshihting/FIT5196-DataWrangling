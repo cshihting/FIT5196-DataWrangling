{
 "cells": [
  {
   "cell_type": "markdown",
   "metadata": {},
   "source": [
    "# FIT5196 Assessment 1: Task 1: Parsing Raw Text Files (%40)\n",
    "#### Student Name:  Shih Ting Chu\n",
    "#### Student ID:  29286875\n",
    "\n",
    "Date: Aug 15\n",
    "\n",
    "Environment: Python 3.6.3 and Jupyter notebook\n",
    "Libraries used: \n",
    "* BeautifulSoup (for XML parsing)\n",
    "* nltk - natural language toolkit (tokenizer, lemmatizer, stopwords, collocations and probabilities)\n",
    "* re (for regular expression, included in Anaconda Python 2.7) \n",
    "* matplotlib (for plotting)\n",
    "\n",
    "### 1. Introduction\n",
    "This assessment touches the very first step of analyzing textual data, i.e., extracting data from unstructured text files. <br>Each student is provided with a data-set that contains several job postings (please find your own file from task1.rar , i.e.,  29286875.dat ). <br>Each data-set contains information about the job advertisements, e.g., job title, job description, start date, required <br>qualifications ( see sample.pdf and sample.txt for the data dictionary ). Your task is to extract the data and transform the <br>data to the  XML  and  JSON  format.  Please note that the  re  and  json packages  in  Python  are the only packages that you are <br>allowed to use in this task and the following must be performed to complete the assessment.<br>\n",
    "* Designing an efficient regex in order to extract the data from the file\n",
    "* Storing and submitting the extracted data into an XML file,\n",
    "29286875.xml  following the format of  example.xml\n",
    "* Storing and submitting the extracted data into a JSON file,\n",
    "29286875.json  following the format of  example.json\n",
    "* Submitting  task1_29286875.ipynb"
   ]
  },
  {
   "cell_type": "markdown",
   "metadata": {},
   "source": [
    "### 2. Import Libraries"
   ]
  },
  {
   "cell_type": "code",
   "execution_count": 1,
   "metadata": {},
   "outputs": [
    {
     "name": "stderr",
     "output_type": "stream",
     "text": [
      "/anaconda3/lib/python3.6/importlib/_bootstrap.py:219: RuntimeWarning: numpy.dtype size changed, may indicate binary incompatibility. Expected 96, got 88\n",
      "  return f(*args, **kwds)\n",
      "/anaconda3/lib/python3.6/importlib/_bootstrap.py:219: RuntimeWarning: numpy.dtype size changed, may indicate binary incompatibility. Expected 96, got 88\n",
      "  return f(*args, **kwds)\n"
     ]
    }
   ],
   "source": [
    "import re # library for regular expression\n",
    "import pandas as pd\n",
    "# pd.__version__"
   ]
  },
  {
   "cell_type": "markdown",
   "metadata": {},
   "source": [
    "### 3. Open Files Function"
   ]
  },
  {
   "cell_type": "code",
   "execution_count": 2,
   "metadata": {
    "collapsed": true
   },
   "outputs": [],
   "source": [
    "# function for getting each company information\n",
    "def get_company(file):\n",
    "    \n",
    "    contents = \"\" # empty string\n",
    "    with open(file, 'r') as f: # read file\n",
    "        for line in f.readlines(): # read line by line\n",
    "            contents += line # add each line into a string\n",
    "\n",
    "    company_list = contents.split(\"-\"*30) # split each company making a list\n",
    "    return company_list"
   ]
  },
  {
   "cell_type": "markdown",
   "metadata": {},
   "source": [
    "### 4. Regex for Each Item of Each Company"
   ]
  },
  {
   "cell_type": "code",
   "execution_count": 3,
   "metadata": {
    "collapsed": true
   },
   "outputs": [],
   "source": [
    "# exact 5-digit ID\n",
    "ID = r\"ID: (\\d{5})\"\n",
    "# company information\n",
    "abt_company = r\"(?:\\n(?:_info|ABOUT(?: COMPANY)?|COMPANYS_INFO|about_company):\\n\\s)((?s).+?)(?:JOB[\\s_]R.+|RESP.+|resp.+)\"\n",
    "# company name\n",
    "company_name = r\"(?:\\n(?:_info|ABOUT(?: COMPANY)?|COMPANYS_INFO|about_company):\\n\\s)((?s).+?(?=\\sis))\"\n",
    "# job responsibility\n",
    "responsibility = r\"(?:\\n(?:JOB[\\s_]R.+|RESP.+|resp.+):\\n)(?:[\\s\\n](- [A-Z][^.]*\\.)[\\s\\n])\"\n",
    "# job qualification\n",
    "qualification = r\"(?:\\n(?:REQ.+|QUAL.+|qual.+):\\n)(?:[\\s\\n](- [A-Z][^.]*\\.)[\\s\\n])\"\n",
    "# deadline for applying\n",
    "deadline = r\"(?:\\n(?:APP.+|dead.+|DEAD.+):\\s)(\\d{2}.+\\d{4})(?:\\n)\"\n",
    "# startdate to apply\n",
    "startdate = r\"(?:\\n(?:DATE.+|START.+|start.+):\\s)(\\d{2}.+\\d{4})(?:\\n)\"\n",
    "# job description\n",
    "description = r\"(?:\\n(?:(?:JOB\\s)?DES.+|_des.+|[Jj].+[Ss][Cc]):\\s)((?s).+?)(?:(?:JOB\\s)?TITLE(?:S)?|JOB_T|_TTL|title(?:s)?)\"\n",
    "# job title\n",
    "title = r\"(?:\\n(?:(?:JOB\\s)?TITLE(?:S)?|JOB_T|_TTL|title(?:s)?):\\s(.+)\\n)\"\n",
    "# job procedure\n",
    "procedure = r\"(?:\\n(?:JOB_P.+|pro.+|PROCEDURES?):\\s)((?s).+?, Thanks.)\"\n",
    "# remuneration / salary\n",
    "remuneration_salary = r\"(?:\\n(?:REMU.+|remu.+|SA.+|sa.+|JOB_SAL):\\s)([A-Z].*)\"\n",
    "# job location\n",
    "location = r\"(?:\\n(?:LOCATION(?:S)?|(?:JOB)?_LOC(?:S)?):\\s)([A-Z].*)\""
   ]
  },
  {
   "cell_type": "markdown",
   "metadata": {},
   "source": [
    "### 5. Convert Text File to XML File"
   ]
  },
  {
   "cell_type": "code",
   "execution_count": 13,
   "metadata": {
    "collapsed": true
   },
   "outputs": [],
   "source": [
    "# get each company information by using pre-defined function\n",
    "for each in get_company('29286875.dat'):\n",
    "    nah_list = [] # create an empty list\n",
    "    match_ID = re.findall(ID, each)\n",
    "    nah_list.append(match_ID) # append the matched ID into nah_list[0]\n",
    "    match_COM = re.findall(abt_company, each)\n",
    "    nah_list.append(match_COM) # append the matched company info into nah_list[1]\n",
    "    match_COM_NAME = re.findall(company_name, each)\n",
    "    nah_list.append(match_COM_NAME) # append the matched company name into nah_list[2]\n",
    "    match_RES = re.findall(responsibility, each)\n",
    "    nah_list.append(match_RES) # append the matched job responsibility into nah_list[3]\n",
    "    match_QUA = re.findall(qualification, each)\n",
    "    nah_list.append(match_QUA) # append the matched job qualification into nah_list[4]\n",
    "    match_DEAD = re.findall(deadline, each)\n",
    "    nah_list.append(match_DEAD) # append the matched deadline into nah_list[5]\n",
    "    match_START = re.findall(startdate, each)\n",
    "    nah_list.append(match_START) # append the matched startdate into nah_list[6]\n",
    "    match_DES = re.findall(description, each)\n",
    "    nah_list.append(match_DES) # append the matched job description into nah_list[7]\n",
    "    match_TITLE = re.findall(title, each)\n",
    "    nah_list.append(match_TITLE) # append the matched job title into nah_list[8]\n",
    "    match_PRO = re.findall(procedure, each)\n",
    "    nah_list.append(match_PRO) # append the matched job procedure into nah_list[9]\n",
    "    match_REMU_SA = re.findall(remuneration_salary, each)\n",
    "    nah_list.append(match_REMU_SA) # append the matched remuneration into nah_list[10]\n",
    "    match_LOC = re.findall(location, each)\n",
    "    nah_list.append(match_LOC) # append the matched job location into nah_list[11]\n",
    "    \n",
    "    final_list = [] # create an empty list for the final outcome\n",
    "    for each in nah_list: # each value in nah_list\n",
    "        if each != []: # if each not empty\n",
    "            for value in each: # each value in list \"each\"\n",
    "                final_list.append(value) # add value into final_list (convert it to str)\n",
    "        else: # if each is empty\n",
    "            each = \"NA\" # assign str \"NA\" to each \n",
    "            final_list.append(each) # add that \"NA\" into final_list\n",
    "\n",
    "    # open file and add each company info from the first one to the last one\n",
    "    f = open('29286875.xml','a+') # xml format\n",
    "    f.write(\"\\n\\n<listings>\\n\" +\n",
    "            \" \"*2 + \"<listing id=\\\"\" + final_list[0] + \"\\\">\\n\" +\n",
    "            \" \"*4 + \"<title>\\n\" +\n",
    "            \" \"*6 + final_list[8].replace(\"\\n\", \" \") + \" in \" + final_list[2].replace(\"\\n\", \" \") + \" in \" + final_list[11] + \"\\n\" +\n",
    "            \" \"*4 + \"</title>\\n\" +\n",
    "            \" \"*4 + \"<location>\" + final_list[11] + \"</location>\\n\" +\n",
    "            \" \"*4 + \"<job_descriptions>\\n\" +\n",
    "            \" \"*6 + \"<description>\\n\" + \n",
    "            \" \"*8 + final_list[7].replace(\"\\n\", \" \") + \"\\n\" +\n",
    "            \" \"*6 + \"</description>\\n\" +\n",
    "            \" \"*4 + \"</job_descriptions>\\n\" +\n",
    "            \" \"*4 + \"<job_responsibilities>\\n\" +\n",
    "            \" \"*6 + \"<responsibility>\\n\" +\n",
    "            \" \"*8 + final_list[3].replace(\"\\n\", \" \") + \"\\n\" +\n",
    "            \" \"*6 + \"</responsibility>\\n\" +\n",
    "            \" \"*4 + \"</job_responsibilities>\\n\" +\n",
    "            \" \"*4 + \"<required_qualifications>\\n\" +\n",
    "            \" \"*6 + \"<qualification>\\n\" +\n",
    "            \" \"*8 + final_list[4].replace(\"\\n\", \" \") + \"\\n\" +\n",
    "            \" \"*6 + \"</qualification>\\n\" +\n",
    "            \" \"*4 + \"</required_qualifications>\\n\" +\n",
    "            \" \"*4 + \"<salary>\" + final_list[10] + \"</salary>\\n\" +\n",
    "            \" \"*4 + \"<application_procedure>\\n\" +\n",
    "            \" \"*6 + final_list[9].replace(\"\\n\", \" \") + \"\\n\" +\n",
    "            \" \"*4 + \"</application_procedure>\\n\" +\n",
    "            \" \"*4 + \"<start_date>\" + final_list[6] + \"</start_date>\\n\" +\n",
    "            \" \"*4 + \"<application_deadline>\" + final_list[5] + \"</application_deadline>\\n\" +\n",
    "            \" \"*4 + \"<about_company>\\n\" + \n",
    "            \" \"*6 + final_list[1].replace(\"\\n\", \" \") + \"\\n\" +\n",
    "            \" \"*4 + \"</about_company>\\n\" +\n",
    "            \" \"*2 + \"</listing>\\n</listings>\")\n",
    "    f.close() # close the file"
   ]
  },
  {
   "cell_type": "markdown",
   "metadata": {},
   "source": [
    "### 6. Convert Txt File to JSON File"
   ]
  },
  {
   "cell_type": "code",
   "execution_count": 16,
   "metadata": {
    "collapsed": true
   },
   "outputs": [],
   "source": [
    "# get each company information by using pre-defined function\n",
    "for each in get_company('29286875.dat'):\n",
    "    nah_list = [] # create an empty list\n",
    "    match_ID = re.findall(ID, each)\n",
    "    nah_list.append(match_ID) # append the matched ID into nah_list[0]\n",
    "    match_COM = re.findall(abt_company, each)\n",
    "    nah_list.append(match_COM) # append the matched company info into nah_list[1]\n",
    "    match_COM_NAME = re.findall(company_name, each)\n",
    "    nah_list.append(match_COM_NAME) # append the matched company name into nah_list[2]\n",
    "    match_RES = re.findall(responsibility, each)\n",
    "    nah_list.append(match_RES) # append the matched job responsibility into nah_list[3]\n",
    "    match_QUA = re.findall(qualification, each)\n",
    "    nah_list.append(match_QUA) # append the matched job qualification into nah_list[4]\n",
    "    match_DEAD = re.findall(deadline, each)\n",
    "    nah_list.append(match_DEAD) # append the matched deadline into nah_list[5]\n",
    "    match_START = re.findall(startdate, each)\n",
    "    nah_list.append(match_START) # append the matched startdate into nah_list[6]\n",
    "    match_DES = re.findall(description, each)\n",
    "    nah_list.append(match_DES) # append the matched job description into nah_list[7]\n",
    "    match_TITLE = re.findall(title, each)\n",
    "    nah_list.append(match_TITLE) # append the matched job title into nah_list[8]\n",
    "    match_PRO = re.findall(procedure, each)\n",
    "    nah_list.append(match_PRO) # append the matched job procedure into nah_list[9]\n",
    "    match_REMU_SA = re.findall(remuneration_salary, each)\n",
    "    nah_list.append(match_REMU_SA) # append the matched remuneration into nah_list[10]\n",
    "    match_LOC = re.findall(location, each)\n",
    "    nah_list.append(match_LOC) # append the matched job location into nah_list[11]\n",
    "    \n",
    "    final_list = [] # create an empty list for the final outcome\n",
    "    for each in nah_list: # each value in nah_list\n",
    "        if each != []: # if each not empty\n",
    "            for value in each: # each value in list \"each\"\n",
    "                final_list.append(value) # add value into final_list (convert it to str)\n",
    "        else: # if each is empty\n",
    "            each = \"NA\" # assign str \"NA\" to each \n",
    "            final_list.append(each) # add that \"NA\" into final_list\n",
    "\n",
    "    # open file and add each company info from the first one to the last one\n",
    "    f = open('29286875.json','a+')\n",
    "    f.write(\"\\n\\n{\\n\" +\n",
    "            \" \"*4 + \"\\\"listings\\\": {\\n\" +\n",
    "            \" \"*8 + \"\\\"listing\\\": [{\\n\" +\n",
    "            \" \"*12 + \"\\\"_id\\\": \\\"\" + final_list[0] + \"\\\",\\n\" +\n",
    "            \" \"*12 + \"\\\"title\\\": \\\"\" + final_list[8].replace(\"\\n\", \" \") + \" in \" + final_list[2].replace(\"\\n\", \" \") + \" in \" + final_list[11] + \"\\\",\\n\" +\n",
    "            \" \"*12 + \"\\\"location\\\": \\\"\" + final_list[11] + \"\\\",\\n\" +\n",
    "            \" \"*12 + \"\\\"job_descriptions\\\": {\\n\" +\n",
    "            \" \"*16 + \"\\\"description\\\": [\\\"\" + final_list[7].replace(\"\\n\", \" \") + \"\\\"]\\n\" +\n",
    "            \" \"*12 + \"},\\n\" +\n",
    "            \" \"*12 + \"\\\"job_responsibilities\\\": {\\n\" +\n",
    "            \" \"*16 + \"\\\"responsibility\\\": [\\\"\" + final_list[3].replace(\"\\n\", \" \") + \"\\\"\\n\" +\n",
    "            \" \"*16 + \"]\\n\" +\n",
    "            \" \"*12 + \"},\\n\" +\n",
    "            \" \"*12 + \"\\\"required_qualifications\\\": {\\n\" +\n",
    "            \" \"*16 + \"\\\"qualification\\\": [\\\"\" + final_list[4].replace(\"\\n\", \" \") + \"\\\"\\n\" +\n",
    "            \" \"*16 + \"]\\n\" +\n",
    "            \" \"*12 + \"},\\n\" +\n",
    "            \" \"*12 + \"\\\"salary\\\": \\\"\" + final_list[10] + \"\\\",\\n\" +\n",
    "            \" \"*12 + \"\\\"application_procedure\\\": \\\"\" + final_list[9].replace(\"\\n\", \" \") + \"\\\",\\n\" +\n",
    "            \" \"*12 + \"\\\"start_date\\\": \\\"\" + final_list[6] + \"\\\",\\n\" +\n",
    "            \" \"*12 + \"\\\"application_deadline\\\": \\\"\" + final_list[5] + \"\\\",\\n\" +\n",
    "            \" \"*12 + \"\\\"about_company\\\": \\\"\" + final_list[1].replace(\"\\n\", \" \") + \"\\\"\\n\" +\n",
    "            \" \"*8 + \"}]\\n\" + \n",
    "            \" \"*4 + \"}\\n\" +\n",
    "            \"}\")\n",
    "    f.close()"
   ]
  }
 ],
 "metadata": {
  "kernelspec": {
   "display_name": "Python 3",
   "language": "python",
   "name": "python3"
  },
  "language_info": {
   "codemirror_mode": {
    "name": "ipython",
    "version": 3
   },
   "file_extension": ".py",
   "mimetype": "text/x-python",
   "name": "python",
   "nbconvert_exporter": "python",
   "pygments_lexer": "ipython3",
   "version": "3.6.3"
  }
 },
 "nbformat": 4,
 "nbformat_minor": 2
}
